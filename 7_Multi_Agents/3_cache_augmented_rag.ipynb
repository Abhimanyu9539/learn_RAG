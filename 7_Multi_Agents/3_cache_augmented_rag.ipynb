{
 "cells": [
  {
   "cell_type": "markdown",
   "id": "a5636539",
   "metadata": {},
   "source": [
    "### What is Cache-Augmented Generation (CAG)?\n",
    "CAG is a retrieval-free approach that bypasses the us ual step of querying external knowledge sources at inference time. Instead, it preloads relevant documents into the LLM's extended context window, precomputes the model’s key‑value (KV) cache, and reuses this during inference—so the model can generate responses without additional retrieval steps "
   ]
  },
  {
   "cell_type": "code",
   "execution_count": 1,
   "id": "f2a315bc",
   "metadata": {},
   "outputs": [
    {
     "data": {
      "text/plain": [
       "ChatOpenAI(client=<openai.resources.chat.completions.completions.Completions object at 0x000002FE437430E0>, async_client=<openai.resources.chat.completions.completions.AsyncCompletions object at 0x000002FE43743B60>, root_client=<openai.OpenAI object at 0x000002FE43740830>, root_async_client=<openai.AsyncOpenAI object at 0x000002FE437438C0>, model_name='gpt-4o-mini', model_kwargs={}, openai_api_key=SecretStr('**********'))"
      ]
     },
     "execution_count": 1,
     "metadata": {},
     "output_type": "execute_result"
    }
   ],
   "source": [
    "import os\n",
    "from dotenv import load_dotenv\n",
    "load_dotenv()\n",
    "os.environ[\"OPENAI_API_KEY\"]=os.getenv(\"OPENAI_API_KEY\")\n",
    "\n",
    "from langchain.chat_models import init_chat_model\n",
    "\n",
    "llm=init_chat_model(\"openai:gpt-4o-mini\")\n",
    "\n",
    "llm"
   ]
  },
  {
   "cell_type": "code",
   "execution_count": 2,
   "id": "aeda6a28",
   "metadata": {},
   "outputs": [],
   "source": [
    "### Cache variable\n",
    "Model_Cache={}"
   ]
  },
  {
   "cell_type": "code",
   "execution_count": null,
   "id": "a583c423",
   "metadata": {},
   "outputs": [],
   "source": [
    "import time\n",
    "\n",
    "def cache_model(query):\n",
    "    start_time=time.time()\n",
    "    if Model_Cache.get(query):\n",
    "        print(\"**CAche Hit**\")\n",
    "        end_time=time.time()\n",
    "        elapsed_time=end_time-start_time\n",
    "        print(f\"EXECUTION TIME: {elapsed_time:.2f} seconds\")\n",
    "        return Model_Cache.get(query)\n",
    "    else:\n",
    "        print(\"***CACHE MISS – EXECUTING MODEL***\")\n",
    "        start_time = time.time()\n",
    "        response = llm.invoke(query)\n",
    "        end_time = time.time()\n",
    "        elapsed = end_time - start_time\n",
    "        print(f\"EXECUTION TIME: {elapsed:.2f} seconds\")\n",
    "        Model_Cache[query] = response\n",
    "        return response\n"
   ]
  },
  {
   "cell_type": "code",
   "execution_count": 4,
   "id": "8cb0125f",
   "metadata": {},
   "outputs": [
    {
     "name": "stdout",
     "output_type": "stream",
     "text": [
      "***CACHE MISS – EXECUTING MODEL***\n",
      "EXECUTION TIME: 1.97 seconds\n"
     ]
    },
    {
     "data": {
      "text/plain": [
       "AIMessage(content='Hello! How can I assist you today?', additional_kwargs={'refusal': None}, response_metadata={'token_usage': {'completion_tokens': 9, 'prompt_tokens': 8, 'total_tokens': 17, 'completion_tokens_details': {'accepted_prediction_tokens': 0, 'audio_tokens': 0, 'reasoning_tokens': 0, 'rejected_prediction_tokens': 0}, 'prompt_tokens_details': {'audio_tokens': 0, 'cached_tokens': 0}}, 'model_name': 'gpt-4o-mini-2024-07-18', 'system_fingerprint': 'fp_560af6e559', 'id': 'chatcmpl-CPTcwM2EG6u8yWuiZNZSUf5sXZv7u', 'service_tier': 'default', 'finish_reason': 'stop', 'logprobs': None}, id='run--78a4b886-c221-4ee4-af15-2b50b4375026-0', usage_metadata={'input_tokens': 8, 'output_tokens': 9, 'total_tokens': 17, 'input_token_details': {'audio': 0, 'cache_read': 0}, 'output_token_details': {'audio': 0, 'reasoning': 0}})"
      ]
     },
     "execution_count": 4,
     "metadata": {},
     "output_type": "execute_result"
    }
   ],
   "source": [
    "response=cache_model(\"hi\")\n",
    "response"
   ]
  },
  {
   "cell_type": "code",
   "execution_count": 5,
   "id": "3f7eea17",
   "metadata": {},
   "outputs": [
    {
     "data": {
      "text/plain": [
       "{'hi': AIMessage(content='Hello! How can I assist you today?', additional_kwargs={'refusal': None}, response_metadata={'token_usage': {'completion_tokens': 9, 'prompt_tokens': 8, 'total_tokens': 17, 'completion_tokens_details': {'accepted_prediction_tokens': 0, 'audio_tokens': 0, 'reasoning_tokens': 0, 'rejected_prediction_tokens': 0}, 'prompt_tokens_details': {'audio_tokens': 0, 'cached_tokens': 0}}, 'model_name': 'gpt-4o-mini-2024-07-18', 'system_fingerprint': 'fp_560af6e559', 'id': 'chatcmpl-CPTcwM2EG6u8yWuiZNZSUf5sXZv7u', 'service_tier': 'default', 'finish_reason': 'stop', 'logprobs': None}, id='run--78a4b886-c221-4ee4-af15-2b50b4375026-0', usage_metadata={'input_tokens': 8, 'output_tokens': 9, 'total_tokens': 17, 'input_token_details': {'audio': 0, 'cache_read': 0}, 'output_token_details': {'audio': 0, 'reasoning': 0}})}"
      ]
     },
     "execution_count": 5,
     "metadata": {},
     "output_type": "execute_result"
    }
   ],
   "source": [
    "Model_Cache\n"
   ]
  },
  {
   "cell_type": "code",
   "execution_count": 6,
   "id": "8a814668",
   "metadata": {},
   "outputs": [
    {
     "name": "stdout",
     "output_type": "stream",
     "text": [
      "**CAche Hit**\n",
      "EXECUTION TIME: 0.00 seconds\n"
     ]
    },
    {
     "data": {
      "text/plain": [
       "AIMessage(content='Hello! How can I assist you today?', additional_kwargs={'refusal': None}, response_metadata={'token_usage': {'completion_tokens': 9, 'prompt_tokens': 8, 'total_tokens': 17, 'completion_tokens_details': {'accepted_prediction_tokens': 0, 'audio_tokens': 0, 'reasoning_tokens': 0, 'rejected_prediction_tokens': 0}, 'prompt_tokens_details': {'audio_tokens': 0, 'cached_tokens': 0}}, 'model_name': 'gpt-4o-mini-2024-07-18', 'system_fingerprint': 'fp_560af6e559', 'id': 'chatcmpl-CPTcwM2EG6u8yWuiZNZSUf5sXZv7u', 'service_tier': 'default', 'finish_reason': 'stop', 'logprobs': None}, id='run--78a4b886-c221-4ee4-af15-2b50b4375026-0', usage_metadata={'input_tokens': 8, 'output_tokens': 9, 'total_tokens': 17, 'input_token_details': {'audio': 0, 'cache_read': 0}, 'output_token_details': {'audio': 0, 'reasoning': 0}})"
      ]
     },
     "execution_count": 6,
     "metadata": {},
     "output_type": "execute_result"
    }
   ],
   "source": [
    "response=cache_model(\"hi\")\n",
    "response"
   ]
  },
  {
   "cell_type": "code",
   "execution_count": 7,
   "id": "73e69f93",
   "metadata": {},
   "outputs": [
    {
     "name": "stdout",
     "output_type": "stream",
     "text": [
      "***CACHE MISS – EXECUTING MODEL***\n",
      "EXECUTION TIME: 9.22 seconds\n",
      "content='LangGraph is an innovative approach that merges the principles of language modeling with graph structures, facilitating advanced natural language processing (NLP) applications. The fundamental idea behind LangGraph is to represent linguistic elements, such as words, phrases, or entire sentences, as nodes in a graph, while the relationships between these elements, such as syntactic dependencies or semantic associations, are represented as edges. This graph-based representation allows for a more nuanced understanding of language, providing new opportunities for analysis, generation, and manipulation.\\n\\nOne of the key strengths of LangGraph lies in its ability to capture complex relationships within language. Traditional language models, while effective in generating text and understanding syntax, often struggle to comprehend the deeper contextual meanings that are inherent in human communication. By employing a graph structure, LangGraph enables the encoding of relationships that transcend basic linguistic rules, allowing it to better grasp the subtleties of meaning, such as ambiguity or metaphor. For example, in a graph representation, \"bank\" as a financial institution and \"bank\" as the side of a river can be distinctly represented, with edges indicating different contexts or meanings depending on their usage.\\n\\nMoreover, LangGraph excels in its adaptability and scalability. Graphs can easily accommodate new nodes and edges, making it possible to continuously expand the model with new data. This flexibility is particularly beneficial in the rapidly evolving field of NLP, where new terminology and language patterns frequently emerge. Researchers can enhance LangGraph models by incorporating diverse datasets, leading to richer and more comprehensive representations of language.\\n\\nAnother important aspect of LangGraph is its application in various NLP tasks. For instance, it can be used in sentiment analysis, where sentiments are represented as nodes, and their relationships to specific phrases or sentences as edges. This allows for a more granular analysis of how different sentiments are expressed across different contexts, providing insights that might be overlooked by conventional models. Similarly, LangGraph can empower machine translation systems, where understanding the relationships between words in the source language and their potential equivalents in the target language is crucial for accurate translations.\\n\\nLangGraph also plays a significant role in information retrieval and knowledge graph construction. By building a graph of relationships between concepts, LangGraph can enhance search algorithms, making them more intuitive and context-aware. Instead of relying solely on keyword matching, a LangGraph-powered system can consider the underlying meanings and associations of words, leading to more relevant search results and recommendations.\\n\\nFurthermore, the integration of LangGraph with deep learning techniques has shown great promise. Graph neural networks (GNNs), for instance, can be employed to process the graph structures created by LangGraph. This fusion of methodologies allows for the extraction of higher-order features and insights, making the NLP applications even more robust and effective.\\n\\nIn conclusion, LangGraph represents a significant advancement in the field of natural language processing by leveraging graph structures to elucidate the intricate relationships inherent in language. Its capacity to capture contextual meaning, coupled with the adaptability and scalability of graph representation, positions LangGraph as a powerful tool in various NLP applications. As research continues to evolve, LangGraph has the potential to not only enhance existing technologies but also inspire new methodologies in the understanding and generation of human language.' additional_kwargs={'refusal': None} response_metadata={'token_usage': {'completion_tokens': 633, 'prompt_tokens': 18, 'total_tokens': 651, 'completion_tokens_details': {'accepted_prediction_tokens': 0, 'audio_tokens': 0, 'reasoning_tokens': 0, 'rejected_prediction_tokens': 0}, 'prompt_tokens_details': {'audio_tokens': 0, 'cached_tokens': 0}}, 'model_name': 'gpt-4o-mini-2024-07-18', 'system_fingerprint': 'fp_560af6e559', 'id': 'chatcmpl-CPTdSz0tckVzONj1v19siabrD7zKR', 'service_tier': 'default', 'finish_reason': 'stop', 'logprobs': None} id='run--9a115269-4cc7-439f-b59b-1bdabae309ba-0' usage_metadata={'input_tokens': 18, 'output_tokens': 633, 'total_tokens': 651, 'input_token_details': {'audio': 0, 'cache_read': 0}, 'output_token_details': {'audio': 0, 'reasoning': 0}}\n"
     ]
    }
   ],
   "source": [
    "query=\"can you give me 500 words on langgraph?\"\n",
    "response =cache_model(query)\n",
    "print(response)"
   ]
  },
  {
   "cell_type": "code",
   "execution_count": 8,
   "id": "2879521e",
   "metadata": {},
   "outputs": [
    {
     "name": "stdout",
     "output_type": "stream",
     "text": [
      "**CAche Hit**\n",
      "EXECUTION TIME: 0.00 seconds\n",
      "content='LangGraph is an innovative approach that merges the principles of language modeling with graph structures, facilitating advanced natural language processing (NLP) applications. The fundamental idea behind LangGraph is to represent linguistic elements, such as words, phrases, or entire sentences, as nodes in a graph, while the relationships between these elements, such as syntactic dependencies or semantic associations, are represented as edges. This graph-based representation allows for a more nuanced understanding of language, providing new opportunities for analysis, generation, and manipulation.\\n\\nOne of the key strengths of LangGraph lies in its ability to capture complex relationships within language. Traditional language models, while effective in generating text and understanding syntax, often struggle to comprehend the deeper contextual meanings that are inherent in human communication. By employing a graph structure, LangGraph enables the encoding of relationships that transcend basic linguistic rules, allowing it to better grasp the subtleties of meaning, such as ambiguity or metaphor. For example, in a graph representation, \"bank\" as a financial institution and \"bank\" as the side of a river can be distinctly represented, with edges indicating different contexts or meanings depending on their usage.\\n\\nMoreover, LangGraph excels in its adaptability and scalability. Graphs can easily accommodate new nodes and edges, making it possible to continuously expand the model with new data. This flexibility is particularly beneficial in the rapidly evolving field of NLP, where new terminology and language patterns frequently emerge. Researchers can enhance LangGraph models by incorporating diverse datasets, leading to richer and more comprehensive representations of language.\\n\\nAnother important aspect of LangGraph is its application in various NLP tasks. For instance, it can be used in sentiment analysis, where sentiments are represented as nodes, and their relationships to specific phrases or sentences as edges. This allows for a more granular analysis of how different sentiments are expressed across different contexts, providing insights that might be overlooked by conventional models. Similarly, LangGraph can empower machine translation systems, where understanding the relationships between words in the source language and their potential equivalents in the target language is crucial for accurate translations.\\n\\nLangGraph also plays a significant role in information retrieval and knowledge graph construction. By building a graph of relationships between concepts, LangGraph can enhance search algorithms, making them more intuitive and context-aware. Instead of relying solely on keyword matching, a LangGraph-powered system can consider the underlying meanings and associations of words, leading to more relevant search results and recommendations.\\n\\nFurthermore, the integration of LangGraph with deep learning techniques has shown great promise. Graph neural networks (GNNs), for instance, can be employed to process the graph structures created by LangGraph. This fusion of methodologies allows for the extraction of higher-order features and insights, making the NLP applications even more robust and effective.\\n\\nIn conclusion, LangGraph represents a significant advancement in the field of natural language processing by leveraging graph structures to elucidate the intricate relationships inherent in language. Its capacity to capture contextual meaning, coupled with the adaptability and scalability of graph representation, positions LangGraph as a powerful tool in various NLP applications. As research continues to evolve, LangGraph has the potential to not only enhance existing technologies but also inspire new methodologies in the understanding and generation of human language.' additional_kwargs={'refusal': None} response_metadata={'token_usage': {'completion_tokens': 633, 'prompt_tokens': 18, 'total_tokens': 651, 'completion_tokens_details': {'accepted_prediction_tokens': 0, 'audio_tokens': 0, 'reasoning_tokens': 0, 'rejected_prediction_tokens': 0}, 'prompt_tokens_details': {'audio_tokens': 0, 'cached_tokens': 0}}, 'model_name': 'gpt-4o-mini-2024-07-18', 'system_fingerprint': 'fp_560af6e559', 'id': 'chatcmpl-CPTdSz0tckVzONj1v19siabrD7zKR', 'service_tier': 'default', 'finish_reason': 'stop', 'logprobs': None} id='run--9a115269-4cc7-439f-b59b-1bdabae309ba-0' usage_metadata={'input_tokens': 18, 'output_tokens': 633, 'total_tokens': 651, 'input_token_details': {'audio': 0, 'cache_read': 0}, 'output_token_details': {'audio': 0, 'reasoning': 0}}\n"
     ]
    }
   ],
   "source": [
    "query=\"can you give me 500 words on langgraph?\"\n",
    "response =cache_model(query)\n",
    "print(response)"
   ]
  },
  {
   "cell_type": "code",
   "execution_count": 9,
   "id": "ea60b1a3",
   "metadata": {},
   "outputs": [
    {
     "name": "stdout",
     "output_type": "stream",
     "text": [
      "***CACHE MISS – EXECUTING MODEL***\n",
      "EXECUTION TIME: 14.24 seconds\n",
      "content='LangGraph is an innovative concept that unites the realms of linguistics and graph theory, primarily focusing on the representation and analysis of language data through graphical models. This approach has gained traction in various fields, including natural language processing (NLP), computational linguistics, and artificial intelligence, enabling researchers and practitioners to better understand the complex structures and relationships inherent in human language.\\n\\nAt its core, LangGraph leverages graph theory principles to represent words, phrases, and their relationships as vertices and edges in a graph. This visualization allows for a more nuanced analysis of linguistic phenomena, capturing relationships that traditional linear representations, such as strings of text, may overlook. For instance, in a LangGraph model, words can be viewed as nodes connected by edges that denote their relationships, such as syntactic dependencies, semantic associations, or co-occurrences within a text.\\n\\nOne of the key advantages of using LangGraph is its ability to model various levels of linguistic data. From small-scale syntax trees that represent the structure of individual sentences to larger networks capturing semantic relationships across entire texts, LangGraph can encompass a wide range of linguistic structures. This versatility makes it an attractive tool for researchers seeking to investigate phenomena like word sense disambiguation, synonymy, and polysemy, where understanding the nuanced relationships between words is crucial.\\n\\nMoreover, LangGraph facilitates machine learning applications in NLP. By representing text data as graphs, it allows for the application of graph-based algorithms that can enhance tasks such as text classification, clustering, and information retrieval. For example, a LangGraph can be utilized in sentiment analysis, where the relationships between words contribute to understanding the overall sentiment of a document. Through techniques like node embeddings, which map graph nodes into a continuous vector space, machine learning algorithms can learn richer representations of language that capture context and meaning better than traditional bag-of-words models.\\n\\nIn addition to its applications in NLP, LangGraph serves as a powerful tool for linguistic research. Linguists can use graph-based models to visualize and analyze language features, such as morphological variations or phonological relationships across different languages or dialects. This aids in revealing patterns and structures that may be less apparent in traditional linguistic analysis methods, thereby enriching our understanding of language dynamics.\\n\\nFurthermore, LangGraph has implications for educational purposes as well. In language learning contexts, visualizing vocabulary and its relationships can help learners grasp the interconnectedness of words, enhancing their comprehension and retention. By utilizing LangGraph tools, language educators can create interactive learning experiences that facilitate deeper understanding and engagement with the language.\\n\\nHowever, the application of LangGraph also poses challenges, particularly in terms of computational complexity and the interpretation of the resulting graphs. As the size of the data increases, the graphs can become cumbersome, requiring sophisticated algorithms and heuristics to manage effectively. Additionally, ensuring that the representations accurately reflect linguistic reality while remaining interpretable requires careful consideration and balance.\\n\\nIn conclusion, LangGraph represents an intersection of linguistics and graph theory that offers unique insights into the structure and function of language. Its applications span various domains, from enhancing natural language processing tasks to facilitating linguistic research and education. As technology continues to evolve, LangGraph may become an increasingly vital tool for understanding the complexities of language, driving innovations in AI and linguistic exploration.' additional_kwargs={'refusal': None} response_metadata={'token_usage': {'completion_tokens': 649, 'prompt_tokens': 16, 'total_tokens': 665, 'completion_tokens_details': {'accepted_prediction_tokens': 0, 'audio_tokens': 0, 'reasoning_tokens': 0, 'rejected_prediction_tokens': 0}, 'prompt_tokens_details': {'audio_tokens': 0, 'cached_tokens': 0}}, 'model_name': 'gpt-4o-mini-2024-07-18', 'system_fingerprint': 'fp_560af6e559', 'id': 'chatcmpl-CPTdmrhGaR4y4J3Mzbl9wnnTZTbQh', 'service_tier': 'default', 'finish_reason': 'stop', 'logprobs': None} id='run--d98c6442-9d6c-421d-9b81-34d0f32264be-0' usage_metadata={'input_tokens': 16, 'output_tokens': 649, 'total_tokens': 665, 'input_token_details': {'audio': 0, 'cache_read': 0}, 'output_token_details': {'audio': 0, 'reasoning': 0}}\n"
     ]
    }
   ],
   "source": [
    "query=\"give me 500 words on langgraph?\"\n",
    "response =cache_model(query)\n",
    "print(response)"
   ]
  },
  {
   "cell_type": "markdown",
   "id": "2a42f07d",
   "metadata": {},
   "source": [
    "### Advanced CAG"
   ]
  },
  {
   "cell_type": "code",
   "execution_count": 10,
   "id": "bdb3b607",
   "metadata": {},
   "outputs": [],
   "source": [
    "from __future__ import annotations\n",
    "from typing import TypedDict, List, Optional\n",
    "import time\n",
    "\n",
    "from langgraph.checkpoint.memory import MemorySaver\n",
    "from langgraph.graph import StateGraph, END\n",
    "\n",
    "from langchain_core.documents import Document\n",
    "from langchain_openai import ChatOpenAI, OpenAIEmbeddings\n",
    "\n",
    "import faiss\n",
    "from langchain_community.vectorstores import FAISS\n",
    "from langchain_community.docstore.in_memory import InMemoryDocstore\n"
   ]
  },
  {
   "cell_type": "code",
   "execution_count": 41,
   "id": "045e7814",
   "metadata": {},
   "outputs": [],
   "source": [
    "# ================= CONFIG =================\n",
    "EMBED_MODEL = \"text-embedding-3-small\"  # 384-dim\n",
    "VECTOR_DIM = 1536\n",
    "\n",
    "LLM_MODEL = \"gpt-4o-mini\"\n",
    "LLM_TEMPERATURE = 0\n",
    "\n",
    "RETRIEVE_TOP_K = 4\n",
    "CACHE_TOP_K = 3\n",
    "\n",
    "CACHE_DISTANCE_THRESHOLD = 0.45\n",
    "\n",
    "# Optional TTL for cache entries (seconds). 0 = disabled.\n",
    "CACHE_TTL_SEC = 0\n"
   ]
  },
  {
   "cell_type": "code",
   "execution_count": 42,
   "id": "414d37d5",
   "metadata": {},
   "outputs": [],
   "source": [
    "# ================= STATE ==================\n",
    "class RAGState(TypedDict):\n",
    "    question: str\n",
    "    normalized_question: str\n",
    "    context_docs: List[Document]\n",
    "    answer: Optional[str]\n",
    "    citations: List[str]\n",
    "    cache_hit: bool"
   ]
  },
  {
   "cell_type": "code",
   "execution_count": 43,
   "id": "0ad26029",
   "metadata": {},
   "outputs": [
    {
     "data": {
      "text/plain": [
       "OpenAIEmbeddings(client=<openai.resources.embeddings.Embeddings object at 0x000002FEA647B020>, async_client=<openai.resources.embeddings.AsyncEmbeddings object at 0x000002FEA647ACF0>, model='text-embedding-3-small', dimensions=None, deployment='text-embedding-ada-002', openai_api_version=None, openai_api_base=None, openai_api_type=None, openai_proxy=None, embedding_ctx_length=8191, openai_api_key=SecretStr('**********'), openai_organization=None, allowed_special=None, disallowed_special=None, chunk_size=1000, max_retries=2, request_timeout=None, headers=None, tiktoken_enabled=True, tiktoken_model_name=None, show_progress_bar=False, model_kwargs={}, skip_empty=False, default_headers=None, default_query=None, retry_min_seconds=4, retry_max_seconds=20, http_client=None, http_async_client=None, check_embedding_ctx_length=True)"
      ]
     },
     "execution_count": 43,
     "metadata": {},
     "output_type": "execute_result"
    }
   ],
   "source": [
    "# ============== GLOBALS ===================\n",
    "EMBED = OpenAIEmbeddings(model=EMBED_MODEL)\n",
    "EMBED"
   ]
  },
  {
   "cell_type": "code",
   "execution_count": 44,
   "id": "3147fb2e",
   "metadata": {},
   "outputs": [],
   "source": [
    "# ----- QA CACHE (EMPTY, SAFE INIT) -----\n",
    "qa_index = faiss.IndexFlatL2(VECTOR_DIM)  # distance; lower is better\n",
    "QA_CACHE = FAISS(\n",
    "    embedding_function=EMBED,\n",
    "    index=qa_index,\n",
    "    docstore=InMemoryDocstore({}),\n",
    "    index_to_docstore_id={}\n",
    ")\n"
   ]
  },
  {
   "cell_type": "code",
   "execution_count": 45,
   "id": "7f0479c6",
   "metadata": {},
   "outputs": [],
   "source": [
    "# ----- RAG STORE (demo only) -----\n",
    "RAG_STORE = FAISS.from_texts(\n",
    "    texts=[\n",
    "        \"LangGraph lets you compose stateful LLM workflows as graphs.\",\n",
    "        \"In LangGraph, nodes can be cached; node caching memoizes outputs keyed by inputs for a TTL.\",\n",
    "        \"Retrieval-Augmented Generation (RAG) retrieves external context and injects it into prompts.\",\n",
    "        \"Semantic caching reuses prior answers when new questions are semantically similar.\"\n",
    "    ],\n",
    "    embedding=EMBED,\n",
    ")"
   ]
  },
  {
   "cell_type": "code",
   "execution_count": 46,
   "id": "d327f1b7",
   "metadata": {},
   "outputs": [],
   "source": [
    "LLM = ChatOpenAI(model=LLM_MODEL, temperature=LLM_TEMPERATURE)\n"
   ]
  },
  {
   "cell_type": "code",
   "execution_count": 47,
   "id": "7b0516cf",
   "metadata": {},
   "outputs": [
    {
     "data": {
      "text/plain": [
       "ChatOpenAI(client=<openai.resources.chat.completions.completions.Completions object at 0x000002FEA5DE4E10>, async_client=<openai.resources.chat.completions.completions.AsyncCompletions object at 0x000002FEA5DE4B90>, root_client=<openai.OpenAI object at 0x000002FEA95DB650>, root_async_client=<openai.AsyncOpenAI object at 0x000002FEA95D8E50>, model_name='gpt-4o-mini', temperature=0.0, model_kwargs={}, openai_api_key=SecretStr('**********'))"
      ]
     },
     "execution_count": 47,
     "metadata": {},
     "output_type": "execute_result"
    }
   ],
   "source": [
    "LLM"
   ]
  },
  {
   "cell_type": "code",
   "execution_count": 48,
   "id": "325ee8e8",
   "metadata": {},
   "outputs": [],
   "source": [
    "### Nodes\n",
    "\n",
    "def normalize_query(state: RAGState) -> RAGState:\n",
    "    q = (state['question'] or \"\").strip()\n",
    "    state['normalized_question'] = q.lower()\n",
    "    return state"
   ]
  },
  {
   "cell_type": "code",
   "execution_count": 49,
   "id": "ce13e286",
   "metadata": {},
   "outputs": [],
   "source": [
    "def semantic_cache_lookup(state: RAGState) -> RAGState:\n",
    "    q = state[\"normalized_question\"]\n",
    "    state[\"cache_hit\"] = False  # default\n",
    "\n",
    "    if not q:\n",
    "        return state\n",
    "\n",
    "    # ✅ Guard: FAISS crashes if ntotal == 0 and you ask for k>0\n",
    "    if getattr(QA_CACHE, \"index\", None) is None or QA_CACHE.index.ntotal == 0:\n",
    "        return state\n",
    "\n",
    "    # For FAISS L2 wrapper, this returns (Document, distance) with lower=better\n",
    "    hits = QA_CACHE.similarity_search_with_score(q, k=CACHE_TOP_K)\n",
    "    if not hits:\n",
    "        return state\n",
    "\n",
    "    best_doc, dist = hits[0]\n",
    "\n",
    "    # Optional TTL\n",
    "    if CACHE_TTL_SEC > 0:\n",
    "        ts = best_doc.metadata.get(\"ts\")\n",
    "        if ts is None or (time.time() - float(ts)) > CACHE_TTL_SEC:\n",
    "            return state\n",
    "\n",
    "    # L2 distance gate (lower = more similar)\n",
    "    if dist <= CACHE_DISTANCE_THRESHOLD:\n",
    "        cached_answer = best_doc.metadata.get(\"answer\")\n",
    "        if cached_answer:\n",
    "            state[\"answer\"] = cached_answer\n",
    "            state[\"citations\"] = [\"(cache)\"]\n",
    "            state[\"cache_hit\"] = True\n",
    "\n",
    "    return state"
   ]
  },
  {
   "cell_type": "code",
   "execution_count": 50,
   "id": "72d77f67",
   "metadata": {},
   "outputs": [],
   "source": [
    "def respond_from_cache(state: RAGState) -> RAGState:\n",
    "    return state\n",
    "\n",
    "def retrieve(state: RAGState) -> RAGState:\n",
    "    q = state[\"normalized_question\"]\n",
    "    docs = RAG_STORE.similarity_search(q, k=RETRIEVE_TOP_K)\n",
    "    state[\"context_docs\"] = docs\n",
    "    return state"
   ]
  },
  {
   "cell_type": "code",
   "execution_count": 51,
   "id": "6d5b1c74",
   "metadata": {},
   "outputs": [],
   "source": [
    "def generate(state: RAGState) -> RAGState:\n",
    "    q = state[\"question\"]\n",
    "    docs = state.get(\"context_docs\", [])\n",
    "    ctx = \"\\n\\n\".join([f\"[doc-{i}] {d.page_content}\" for i, d in enumerate(docs, start=1)])\n",
    "\n",
    "    system = (\n",
    "        \"You are a precise RAG assistant. Use the context when helpful. \"\n",
    "        \"Cite with [doc-i] markers if you use a fact from the context.\"\n",
    "    )\n",
    "    user = f\"Question: {q}\\n\\nContext:\\n{ctx}\\n\\nWrite a concise answer with citations.\"\n",
    "\n",
    "    resp = LLM.invoke([{\"role\": \"system\", \"content\": system},\n",
    "                       {\"role\": \"user\", \"content\": user}])\n",
    "    state[\"answer\"] = resp.content\n",
    "    state[\"citations\"] = [f\"[doc-{i}]\" for i in range(1, len(docs) + 1)]\n",
    "    return state"
   ]
  },
  {
   "cell_type": "code",
   "execution_count": 52,
   "id": "d0732320",
   "metadata": {},
   "outputs": [],
   "source": [
    "def cache_write(state: RAGState) -> RAGState:\n",
    "    q = state[\"normalized_question\"]\n",
    "    a = state.get(\"answer\")\n",
    "    if not q or not a:\n",
    "        return state\n",
    "\n",
    "    QA_CACHE.add_texts(\n",
    "        texts=[q],\n",
    "        metadatas=[{\n",
    "            \"answer\": a,\n",
    "            \"ts\": time.time(),\n",
    "        }]\n",
    "    )\n",
    "    return state"
   ]
  },
  {
   "cell_type": "code",
   "execution_count": 53,
   "id": "9794466c",
   "metadata": {},
   "outputs": [
    {
     "data": {
      "image/png": "[encoded data removed]",
      "text/plain": [
       "<langgraph.graph.state.CompiledStateGraph object at 0x000002FEA96B1F90>"
      ]
     },
     "execution_count": 53,
     "metadata": {},
     "output_type": "execute_result"
    }
   ],
   "source": [
    "# ============== GRAPH WIRING ==============\n",
    "graph = StateGraph(RAGState)\n",
    "\n",
    "graph.add_node(\"normalize_query\", normalize_query)\n",
    "graph.add_node(\"semantic_cache_lookup\", semantic_cache_lookup)\n",
    "graph.add_node(\"respond_from_cache\", respond_from_cache)\n",
    "graph.add_node(\"retrieve\", retrieve)\n",
    "graph.add_node(\"generate\", generate)\n",
    "graph.add_node(\"cache_write\", cache_write)\n",
    "\n",
    "graph.set_entry_point(\"normalize_query\")\n",
    "graph.add_edge(\"normalize_query\", \"semantic_cache_lookup\")\n",
    "\n",
    "def _branch(state: RAGState) -> str:\n",
    "    return \"respond_from_cache\" if state.get(\"cache_hit\") else \"retrieve\"\n",
    "\n",
    "graph.add_conditional_edges(\n",
    "    \"semantic_cache_lookup\",\n",
    "    _branch,\n",
    "    {\n",
    "        \"respond_from_cache\": \"respond_from_cache\",\n",
    "        \"retrieve\": \"retrieve\"\n",
    "    }\n",
    ")\n",
    "\n",
    "graph.add_edge(\"respond_from_cache\", END)\n",
    "graph.add_edge(\"retrieve\", \"generate\")\n",
    "graph.add_edge(\"generate\", \"cache_write\")\n",
    "graph.add_edge(\"cache_write\", END)\n",
    "\n",
    "memory = MemorySaver()\n",
    "app = graph.compile(checkpointer=memory)\n",
    "app"
   ]
  },
  {
   "cell_type": "code",
   "execution_count": 54,
   "id": "9ce6b7fe",
   "metadata": {},
   "outputs": [
    {
     "name": "stdout",
     "output_type": "stream",
     "text": [
      "Answer: LangGraph is a framework that allows users to compose stateful workflows for large language models (LLMs) in the form of graphs, enabling the management of complex interactions and data flows [doc-2]. It also features node caching, which memoizes outputs based on inputs for a specified time-to-live (TTL), enhancing efficiency [doc-1].\n",
      "Citations: ['[doc-1]', '[doc-2]', '[doc-3]', '[doc-4]']\n",
      "Cache hit?: False\n"
     ]
    }
   ],
   "source": [
    "# ================= DEMO ===================\n",
    "if __name__ == \"__main__\":\n",
    "    thread_cfg = {\"configurable\": {\"thread_id\": \"demo-user-1\"}}\n",
    "\n",
    "    q1 = \"What is LangGraph ?\"\n",
    "    out1 = app.invoke({\"question\": q1, \"context_docs\": [], \"citations\": []}, thread_cfg)\n",
    "    print(\"Answer:\", out1[\"answer\"])\n",
    "    print(\"Citations:\", out1.get(\"citations\"))\n",
    "    print(\"Cache hit?:\", out1.get(\"cache_hit\"))"
   ]
  },
  {
   "cell_type": "code",
   "execution_count": 55,
   "id": "b0094ac7",
   "metadata": {},
   "outputs": [
    {
     "name": "stdout",
     "output_type": "stream",
     "text": [
      "Answer: LangGraph is a framework that allows users to compose stateful workflows for large language models (LLMs) in the form of graphs, enabling the management of complex interactions and data flows [doc-2]. It also features node caching, which memoizes outputs based on inputs for a specified time-to-live (TTL), enhancing efficiency [doc-1].\n",
      "Citations: ['(cache)']\n",
      "Cache hit?: True\n"
     ]
    }
   ],
   "source": [
    "q1 = \"Explain about LangGraph ?\"\n",
    "out1 = app.invoke({\"question\": q1, \"context_docs\": [], \"citations\": []}, thread_cfg)\n",
    "print(\"Answer:\", out1[\"answer\"])\n",
    "print(\"Citations:\", out1.get(\"citations\"))\n",
    "print(\"Cache hit?:\", out1.get(\"cache_hit\"))"
   ]
  },
  {
   "cell_type": "code",
   "execution_count": 56,
   "id": "08972dac",
   "metadata": {},
   "outputs": [
    {
     "name": "stdout",
     "output_type": "stream",
     "text": [
      "Answer: LangGraph is a framework that allows users to compose stateful workflows for large language models (LLMs) in the form of graphs, enabling the management of complex interactions and data flows [doc-2]. It also features node caching, which memoizes outputs based on inputs for a specified time-to-live (TTL), enhancing efficiency [doc-1].\n",
      "Citations: ['(cache)']\n",
      "Cache hit?: True\n"
     ]
    }
   ],
   "source": [
    "q1 = \"Explain about LangGraph agents ?\"\n",
    "out1 = app.invoke({\"question\": q1, \"context_docs\": [], \"citations\": []}, thread_cfg)\n",
    "print(\"Answer:\", out1[\"answer\"])\n",
    "print(\"Citations:\", out1.get(\"citations\"))\n",
    "print(\"Cache hit?:\", out1.get(\"cache_hit\"))"
   ]
  },
  {
   "cell_type": "code",
   "execution_count": 57,
   "id": "6f161cab",
   "metadata": {},
   "outputs": [
    {
     "name": "stdout",
     "output_type": "stream",
     "text": [
      "Answer: In LangGraph, agents are components that facilitate the composition of stateful workflows using large language models (LLMs) as graphs. These agents can leverage features like node caching, which memoizes outputs based on inputs for a specified time-to-live (TTL) [doc-2]. Additionally, they can utilize Retrieval-Augmented Generation (RAG) to retrieve external context and incorporate it into prompts, enhancing the relevance and accuracy of responses [doc-3]. Furthermore, semantic caching allows agents to reuse previous answers when new questions are semantically similar, improving efficiency and response time [doc-4].\n",
      "Citations: ['[doc-1]', '[doc-2]', '[doc-3]', '[doc-4]']\n",
      "Cache hit?: False\n"
     ]
    }
   ],
   "source": [
    "q1 = \"Explain about agents in Langgraph ?\"\n",
    "out1 = app.invoke({\"question\": q1, \"context_docs\": [], \"citations\": []}, thread_cfg)\n",
    "print(\"Answer:\", out1[\"answer\"])\n",
    "print(\"Citations:\", out1.get(\"citations\"))\n",
    "print(\"Cache hit?:\", out1.get(\"cache_hit\"))"
   ]
  }
 ],
 "metadata": {
  "kernelspec": {
   "display_name": ".venv",
   "language": "python",
   "name": "python3"
  },
  "language_info": {
   "codemirror_mode": {
    "name": "ipython",
    "version": 3
   },
   "file_extension": ".py",
   "mimetype": "text/x-python",
   "name": "python",
   "nbconvert_exporter": "python",
   "pygments_lexer": "ipython3",
   "version": "3.13.6"
  }
 },
 "nbformat": 4,
 "nbformat_minor": 5
}
