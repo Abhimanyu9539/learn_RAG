{
 "cells": [
  {
   "cell_type": "markdown",
   "id": "e8974df0",
   "metadata": {},
   "source": [
    "### 🤖 What are Multi-Agent RAG Systems?\n",
    "A Multi-Agent RAG System splits the RAG pipeline into multiple specialized agents — each responsible for a specific role — and enables them to collaborate on a single query or task.\n",
    "\n",
    "#### 1. 📋 Multi-Agent Network RAG System with LangGraph\n",
    "Project Overview\n",
    "\n",
    "A beginner-friendly Retrieval-Augmented Generation (RAG) system that uses a multi-agent architecture to intelligently answer questions from your documents. Built with LangGraph v0.3 for workflow orchestration and OpenAI for language understanding.\n",
    "\n",
    "What It Does\n",
    "\n",
    "Transforms your documents (PDFs, text files) into a searchable knowledge base that can answer questions intelligently using AI. Simply upload documents and ask questions in natural language - the system finds relevant information and generates comprehensive answers.\n",
    "Key Features\n",
    "\n",
    "- 📚 Multi-Format Support: Handles PDF and text documents\n",
    "- 🤖 3-Agent Architecture: Specialized agents for document processing, retrieval, and answer generation\n",
    "- 🔍 Smart Search: Vector-based semantic search finds relevant information\n",
    "- 💬 Natural Language Q&A: Ask questions in plain English\n"
   ]
  },
  {
   "cell_type": "code",
   "execution_count": 5,
   "id": "89ff399a",
   "metadata": {},
   "outputs": [],
   "source": [
    "import os\n",
    "from dotenv import load_dotenv\n",
    "load_dotenv()\n",
    "from langchain.chat_models import init_chat_model\n",
    "\n",
    "\n",
    "os.environ[\"TAVILY_API_KEY\"]=os.getenv(\"TAVILY_API_KEY\")\n",
    "\n",
    "os.environ[\"OPENAI_API_KEY\"]=os.getenv(\"OPENAI_API_KEY\")"
   ]
  },
  {
   "cell_type": "code",
   "execution_count": 6,
   "id": "a96a1a80",
   "metadata": {},
   "outputs": [
    {
     "data": {
      "text/plain": [
       "ChatOpenAI(client=<openai.resources.chat.completions.completions.Completions object at 0x000002007E939D10>, async_client=<openai.resources.chat.completions.completions.AsyncCompletions object at 0x000002007E93A0D0>, root_client=<openai.OpenAI object at 0x000002007E939A90>, root_async_client=<openai.AsyncOpenAI object at 0x000002007E939E50>, model_name='gpt-4o-mini', model_kwargs={}, openai_api_key=SecretStr('**********'))"
      ]
     },
     "execution_count": 6,
     "metadata": {},
     "output_type": "execute_result"
    }
   ],
   "source": [
    "llm=init_chat_model(\"openai:gpt-4o-mini\")\n",
    "llm"
   ]
  },
  {
   "cell_type": "code",
   "execution_count": 12,
   "id": "62327ed2",
   "metadata": {},
   "outputs": [],
   "source": [
    "from typing import Annotated\n",
    "\n",
    "from langchain_tavily import TavilySearch\n",
    "from langchain_core.tools import tool\n",
    "from langchain.agents import Tool\n",
    "from langchain.tools import WikipediaQueryRun\n",
    "from langchain.utilities import WikipediaAPIWrapper\n",
    "from langchain.document_loaders import TextLoader\n",
    "from langchain.vectorstores import FAISS\n",
    "from langchain_openai import OpenAIEmbeddings\n",
    "from langchain.text_splitter import RecursiveCharacterTextSplitter"
   ]
  },
  {
   "cell_type": "code",
   "execution_count": 10,
   "id": "da242eea",
   "metadata": {},
   "outputs": [],
   "source": [
    "tavily_tool=TavilySearch(max_results=5)"
   ]
  },
  {
   "cell_type": "code",
   "execution_count": 17,
   "id": "a8eb7c3b",
   "metadata": {},
   "outputs": [],
   "source": [
    "## Generic function to crate a retrieval tool \n",
    "\n",
    "def make_retriever_tool_from_text(file, name, desc):\n",
    "    docs = TextLoader(file, encoding='utf-8').load()\n",
    "\n",
    "    chunks = RecursiveCharacterTextSplitter(chunk_size=500, chunk_overlap=50).split_documents(docs)\n",
    "\n",
    "    vs = FAISS.from_documents(chunks, OpenAIEmbeddings())\n",
    "\n",
    "    retriever = vs.as_retriever()\n",
    "\n",
    "    def tool_func(query:str)->str:\n",
    "        print(f\"📚 Using tool: {name}\")\n",
    "        results = retriever.invoke(query)\n",
    "        return \"\\n\\n\".join(doc.page_content for doc in results)\n",
    "    \n",
    "    return Tool(name=name,description=desc,func=tool_func)"
   ]
  },
  {
   "cell_type": "code",
   "execution_count": null,
   "id": "9002c6d9",
   "metadata": {},
   "outputs": [
    {
     "data": {
      "text/plain": [
       "Tool(name='InternalResearchNotes', description='Search internal research notes for experimental results', func=<function make_retriever_tool_from_text.<locals>.tool_func at 0x00000200745E0E00>)"
      ]
     },
     "execution_count": 18,
     "metadata": {},
     "output_type": "execute_result"
    }
   ],
   "source": [
    "internal_tool_1=make_retriever_tool_from_text(\"research_notes.txt\",\n",
    "                                              \"InternalResearchNotes \",\n",
    "                                              \"Search internal research notes for experimental results\")\n",
    "\n",
    "internal_tool_1"
   ]
  },
  {
   "cell_type": "code",
   "execution_count": 19,
   "id": "8bf8c7b9",
   "metadata": {},
   "outputs": [],
   "source": [
    "from langchain_core.messages import BaseMessage, HumanMessage\n",
    "from langgraph.prebuilt import create_react_agent\n",
    "from langgraph.graph import MessagesState, END\n",
    "from langgraph.types import Command"
   ]
  },
  {
   "cell_type": "code",
   "execution_count": 20,
   "id": "ce77af44",
   "metadata": {},
   "outputs": [],
   "source": [
    "def get_next_node(last_message: BaseMessage, goto:str):\n",
    "    if \"FINAL_ANSWER\" in last_message.content:\n",
    "        return END\n",
    "    return goto"
   ]
  },
  {
   "cell_type": "code",
   "execution_count": 21,
   "id": "9835781b",
   "metadata": {},
   "outputs": [],
   "source": [
    "def make_system_prompt(suffix: str) -> str:\n",
    "    return (\n",
    "        \"You are a helpful AI assistant, collaborating with other assistants.\"\n",
    "        \" Use the provided tools to progress towards answering the question.\"\n",
    "        \" If you are unable to fully answer, that's OK, another assistant with different tools \"\n",
    "        \" will help where you left off. Execute what you can to make progress.\"\n",
    "        \" If you or any of the other assistants have the final answer or deliverable,\"\n",
    "        \" prefix your response with FINAL ANSWER so the team knows to stop.\"\n",
    "        f\"\\n{suffix}\"\n",
    "    )"
   ]
  },
  {
   "cell_type": "code",
   "execution_count": 22,
   "id": "7ef7fc8a",
   "metadata": {},
   "outputs": [
    {
     "data": {
      "image/png": "[encoded data removed]",
      "text/plain": [
       "<langgraph.graph.state.CompiledStateGraph object at 0x0000020017AF1160>"
      ]
     },
     "execution_count": 22,
     "metadata": {},
     "output_type": "execute_result"
    }
   ],
   "source": [
    "### Research agent and node\n",
    "\n",
    "\n",
    "research_agent = create_react_agent(\n",
    "    llm, \n",
    "    tools = [internal_tool_1, tavily_tool],\n",
    "    prompt=make_system_prompt(\"You can only do research. Use the tool that you are binded with, you can use both of them\" \\\n",
    "    \" You are working with a content writer colleague.\")\n",
    ")\n",
    "\n",
    "research_agent\n"
   ]
  },
  {
   "cell_type": "code",
   "execution_count": 23,
   "id": "addc3281",
   "metadata": {},
   "outputs": [],
   "source": [
    "### Research Node\n",
    "\n",
    "from typing import Literal\n",
    "\n",
    "\n",
    "def research_node(state:MessagesState) -> Command[Literal['blog_generator', END]]:\n",
    "    result = research_agent.invoke(state)\n",
    "\n",
    "    goto = get_next_node(result[\"messages\"][-1], \"blog_generator\")\n",
    "\n",
    "    # wrap in a human message, as not all providers allow\n",
    "    # AI message at the last position of the input messages list\n",
    "    result[\"messages\"][-1] = HumanMessage(\n",
    "        content=result[\"messages\"][-1].content, name=\"researcher\"\n",
    "    )\n",
    "    return Command(\n",
    "        update={\n",
    "            # share internal message history of research agent with other agents\n",
    "            \"messages\": result[\"messages\"],\n",
    "        },\n",
    "        goto=goto,\n",
    "    )\n"
   ]
  },
  {
   "cell_type": "code",
   "execution_count": 24,
   "id": "518d57c3",
   "metadata": {},
   "outputs": [],
   "source": [
    "### Blog write agent\n",
    "blog_agent=create_react_agent(\n",
    "    llm,\n",
    "    tools=[],\n",
    "    prompt=make_system_prompt(\n",
    "        \"You can only write a detailed blog. You are working with a researcher colleague.\"\n",
    "    )\n",
    ")\n",
    "\n",
    "def blog_node(state: MessagesState) -> Command[Literal[\"researcher\", END]]:\n",
    "    result = blog_agent.invoke(state)\n",
    "    goto = get_next_node(result[\"messages\"][-1], \"researcher\")\n",
    "    # wrap in a human message, as not all providers allow\n",
    "    # AI message at the last position of the input messages list\n",
    "    result[\"messages\"][-1] = HumanMessage(\n",
    "        content=result[\"messages\"][-1].content, name=\"blog_generator\"\n",
    "    )\n",
    "    return Command(\n",
    "        update={\n",
    "            # share internal message history of chart agent with other agents\n",
    "            \"messages\": result[\"messages\"],\n",
    "        },\n",
    "        goto=goto,\n",
    "    )"
   ]
  },
  {
   "cell_type": "code",
   "execution_count": 25,
   "id": "5e0ea950",
   "metadata": {},
   "outputs": [
    {
     "data": {
      "image/png": "[encoded data removed]",
      "text/plain": [
       "<langgraph.graph.state.CompiledStateGraph object at 0x00000200173DE850>"
      ]
     },
     "execution_count": 25,
     "metadata": {},
     "output_type": "execute_result"
    }
   ],
   "source": [
    "from langgraph.graph import StateGraph, START\n",
    "\n",
    "workflow = StateGraph(MessagesState)\n",
    "workflow.add_node(\"researcher\", research_node)\n",
    "workflow.add_node(\"blog_generator\", blog_node)\n",
    "\n",
    "workflow.add_edge(START, \"researcher\")\n",
    "graph = workflow.compile()\n",
    "graph"
   ]
  },
  {
   "cell_type": "code",
   "execution_count": null,
   "id": "2937998a",
   "metadata": {},
   "outputs": [],
   "source": [
    "response=graph.invoke({\"messages\":\"Write a detailed blog on transformer variants in production deployments\"})"
   ]
  },
  {
   "cell_type": "code",
   "execution_count": null,
   "id": "8f3d5032",
   "metadata": {},
   "outputs": [],
   "source": [
    "response[\"messages\"][-1].content"
   ]
  },
  {
   "cell_type": "markdown",
   "id": "97c967fe",
   "metadata": {},
   "source": [
    "### Multi Agent Suprvisor With RAG\n",
    "Supervisor is a multi-agent architecture where specialized agents are coordinated by a central supervisor agent. The supervisor agent controls all communication flow and task delegation, making decisions about which agent to invoke based on the current context and task requirements.\n",
    "\n",
    "In this tutorial, you will build a supervisor system with two agents — a research and a math expert. By the end of the tutorial you will:\n",
    "\n",
    "1. Build specialized research and math agents\n",
    "2. Build a supervisor for orchestrating them with the prebuilt langgraph-supervisor\n",
    "3. Build a supervisor \n",
    "4. Implement advanced task delegation\n"
   ]
  },
  {
   "cell_type": "code",
   "execution_count": 27,
   "id": "9f8df06f",
   "metadata": {},
   "outputs": [
    {
     "data": {
      "text/plain": [
       "Tool(name='InternalResearchNotes', description='Search internal research notes for experimental results', func=<function make_retriever_tool_from_text.<locals>.tool_func at 0x00000200745E0E00>)"
      ]
     },
     "execution_count": 27,
     "metadata": {},
     "output_type": "execute_result"
    }
   ],
   "source": [
    "internal_tool_1"
   ]
  },
  {
   "cell_type": "code",
   "execution_count": 28,
   "id": "be7ca5c0",
   "metadata": {},
   "outputs": [
    {
     "data": {
      "text/plain": [
       "TavilySearch(max_results=3, api_wrapper=TavilySearchAPIWrapper(tavily_api_key=SecretStr('**********'), api_base_url=None))"
      ]
     },
     "execution_count": 28,
     "metadata": {},
     "output_type": "execute_result"
    }
   ],
   "source": [
    "from langchain_tavily import TavilySearch\n",
    "\n",
    "web_search = TavilySearch(max_results=3)\n",
    "web_search"
   ]
  },
  {
   "cell_type": "code",
   "execution_count": 29,
   "id": "465cadb2",
   "metadata": {},
   "outputs": [
    {
     "data": {
      "image/png": "[encoded data removed]",
      "text/plain": [
       "<langgraph.graph.state.CompiledStateGraph object at 0x00000200A8BAAC10>"
      ]
     },
     "execution_count": 29,
     "metadata": {},
     "output_type": "execute_result"
    }
   ],
   "source": [
    "from langgraph.prebuilt import create_react_agent\n",
    "\n",
    "research_agent=create_react_agent(\n",
    "    model=llm,\n",
    "    tools=[web_search,internal_tool_1],\n",
    "    prompt=(\n",
    "        \"You are a research agent.\\n\\n\"\n",
    "        \"INSTRUCTIONS:\\n\"\n",
    "        \"- Assist ONLY with research-related tasks, DO NOT do any math\\n\"\n",
    "        \"- After you're done with your tasks, respond to the supervisor directly\\n\"\n",
    "        \"- Respond ONLY with the results of your work, do NOT include ANY other text.\"\n",
    "    ),\n",
    "    name=\"research_agent\"\n",
    ")\n",
    "research_agent"
   ]
  },
  {
   "cell_type": "code",
   "execution_count": 30,
   "id": "e6be7ec5",
   "metadata": {},
   "outputs": [
    {
     "data": {
      "image/png": "[encoded data removed]",
      "text/plain": [
       "<langgraph.graph.state.CompiledStateGraph object at 0x00000200A8BAAD50>"
      ]
     },
     "execution_count": 30,
     "metadata": {},
     "output_type": "execute_result"
    }
   ],
   "source": [
    "def add(a: float, b: float):\n",
    "    \"\"\"Add two numbers.\"\"\"\n",
    "    return a + b\n",
    "\n",
    "\n",
    "def multiply(a: float, b: float):\n",
    "    \"\"\"Multiply two numbers.\"\"\"\n",
    "    return a * b\n",
    "\n",
    "\n",
    "def divide(a: float, b: float):\n",
    "    \"\"\"Divide two numbers.\"\"\"\n",
    "    return a / b\n",
    "\n",
    "\n",
    "math_agent=create_react_agent(\n",
    "    model=llm,\n",
    "    tools=[add,multiply,divide],\n",
    "    prompt=(\n",
    "        \"You are a math agent.\\n\\n\"\n",
    "        \"INSTRUCTIONS:\\n\"\n",
    "        \"- Assist ONLY with math-related tasks\\n\"\n",
    "        \"- After you're done with your tasks, respond to the supervisor directly\\n\"\n",
    "        \"- Respond ONLY with the results of your work, do NOT include ANY other text.\"\n",
    "    ),\n",
    "    name=\"math_agent\"\n",
    "\n",
    ")\n",
    "\n",
    "math_agent"
   ]
  },
  {
   "cell_type": "code",
   "execution_count": 31,
   "id": "d2f7a181",
   "metadata": {},
   "outputs": [
    {
     "data": {
      "image/png": "[encoded data removed]",
      "text/plain": [
       "<langgraph.graph.state.CompiledStateGraph object at 0x00000200A8BABB10>"
      ]
     },
     "execution_count": 31,
     "metadata": {},
     "output_type": "execute_result"
    }
   ],
   "source": [
    "### create supervisor agent\n",
    "\n",
    "from langgraph_supervisor import create_supervisor\n",
    "supervisor=create_supervisor(\n",
    "    model=llm,\n",
    "    agents=[research_agent,math_agent],\n",
    "    prompt=(\n",
    "         \"You are a supervisor managing two agents:\\n\"\n",
    "        \"- a research agent. Assign research-related tasks to this agent\\n\"\n",
    "        \"- a math agent. Assign math-related tasks to this agent\\n\"\n",
    "        \"Assign work to one agent at a time, do not call agents in parallel.\\n\"\n",
    "        \"Do not do any work yourself.\"\n",
    "\n",
    "    ),\n",
    "    add_handoff_back_messages=True,\n",
    "    output_mode=\"full_history\"\n",
    ").compile()\n",
    "\n",
    "supervisor"
   ]
  },
  {
   "cell_type": "code",
   "execution_count": 32,
   "id": "87a8a5cf",
   "metadata": {},
   "outputs": [
    {
     "name": "stdout",
     "output_type": "stream",
     "text": [
      "📚 Using tool: InternalResearchNotes\n"
     ]
    }
   ],
   "source": [
    "response=supervisor.invoke({\"messages\":\" list all the transformer variants in production deployments from the retriever and then tell me what is 5 plus 10\"})"
   ]
  },
  {
   "cell_type": "code",
   "execution_count": 33,
   "id": "d00b48ab",
   "metadata": {},
   "outputs": [
    {
     "data": {
      "text/plain": [
       "{'messages': [HumanMessage(content=' list all the transformer variants in production deployments from the retriever and then tell me what is 5 plus 10', additional_kwargs={}, response_metadata={}, id='9913e353-460b-4fe9-8a4b-aa2215eddd99'),\n",
       "  AIMessage(content='', additional_kwargs={'tool_calls': [{'id': 'call_VlqZG0KolU0n8h5lsQgXKR2N', 'function': {'arguments': '{}', 'name': 'transfer_to_research_agent'}, 'type': 'function'}], 'refusal': None}, response_metadata={'token_usage': {'completion_tokens': 13, 'prompt_tokens': 142, 'total_tokens': 155, 'completion_tokens_details': {'accepted_prediction_tokens': 0, 'audio_tokens': 0, 'reasoning_tokens': 0, 'rejected_prediction_tokens': 0}, 'prompt_tokens_details': {'audio_tokens': 0, 'cached_tokens': 0}}, 'model_name': 'gpt-4o-mini-2024-07-18', 'system_fingerprint': 'fp_51db84afab', 'id': 'chatcmpl-CNNJp0DIx2dvVcFRlwGkKYkxmllaz', 'service_tier': 'default', 'finish_reason': 'tool_calls', 'logprobs': None}, name='supervisor', id='run--fda30498-9a5d-47ed-91f7-a5f43184f735-0', tool_calls=[{'name': 'transfer_to_research_agent', 'args': {}, 'id': 'call_VlqZG0KolU0n8h5lsQgXKR2N', 'type': 'tool_call'}], usage_metadata={'input_tokens': 142, 'output_tokens': 13, 'total_tokens': 155, 'input_token_details': {'audio': 0, 'cache_read': 0}, 'output_token_details': {'audio': 0, 'reasoning': 0}}),\n",
       "  ToolMessage(content='Successfully transferred to research_agent', name='transfer_to_research_agent', id='c19e3bcf-cfef-45db-88dc-214e8cc20bd7', tool_call_id='call_VlqZG0KolU0n8h5lsQgXKR2N'),\n",
       "  AIMessage(content='', additional_kwargs={'tool_calls': [{'id': 'call_kNo8KPeEwKOln8JFxfVsKash', 'function': {'arguments': '{\"__arg1\":\"transformer variants in production deployments\"}', 'name': 'InternalResearchNotes'}, 'type': 'function'}], 'refusal': None}, response_metadata={'token_usage': {'completion_tokens': 22, 'prompt_tokens': 1407, 'total_tokens': 1429, 'completion_tokens_details': {'accepted_prediction_tokens': 0, 'audio_tokens': 0, 'reasoning_tokens': 0, 'rejected_prediction_tokens': 0}, 'prompt_tokens_details': {'audio_tokens': 0, 'cached_tokens': 0}}, 'model_name': 'gpt-4o-mini-2024-07-18', 'system_fingerprint': 'fp_560af6e559', 'id': 'chatcmpl-CNNJqhLqkwx3QWJWR65l8X5JOMuwO', 'service_tier': 'default', 'finish_reason': 'tool_calls', 'logprobs': None}, name='research_agent', id='run--6caa5062-6cd0-4821-be7f-3e15867da409-0', tool_calls=[{'name': 'InternalResearchNotes', 'args': {'__arg1': 'transformer variants in production deployments'}, 'id': 'call_kNo8KPeEwKOln8JFxfVsKash', 'type': 'tool_call'}], usage_metadata={'input_tokens': 1407, 'output_tokens': 22, 'total_tokens': 1429, 'input_token_details': {'audio': 0, 'cache_read': 0}, 'output_token_details': {'audio': 0, 'reasoning': 0}}),\n",
       "  ToolMessage(content='Experiment Log: Transformer Evaluation - July 2024\\n\\nEfficientFormer:\\n- Top-1 accuracy: 92.4% on TinyImageNet\\n- Peak memory usage: 290MB (batch size = 16)\\n- Deployment target: Raspberry Pi 4\\n- Notes: Works well in quantized int8 mode with no major accuracy drop\\n\\nLongformer:\\n- Evaluation on customer support logs (max tokens: 8192)\\n- Latency >1.2s per query in streaming setting\\n- Observations: Chunk-based hybrid attention may reduce delay\\n\\nReformer:\\n- Challenges during training:\\n   - Bucket collisions\\n   - Inconsistent loss spikes beyond 5k steps\\n   - Sparse gradient updates during LSH attention\\n- Solutions tried:\\n   - Gradient clipping\\n   - Warmup scheduler\\n   - Memory-efficient attention modules\\n\\nTinyBERT:\\n- Used for classification: Support ticket priority tagging\\n- Evaluation: 87% F1 score, confusion in ambiguous class C\\n- Works well with 2-layer FFN adapter for domain transfer\\n\\nAdditional Experiments:\\n\\n1. FlashAttention2:\\n   - Integrated into LLaMA2\\n   - Reduces context latency by ~50%\\n\\n2. Chain-of-Thought prompting:\\n   - Outperforms direct answer prompting by 8% on logic tasks\\n   - Reflective prompting increases accuracy by 3%\\n\\n7. Safety:\\n   - Toxicity detection via Detoxify\\n   - Out-of-scope filter via zero-shot classifier\\n   - Red teaming involved adversarial prompt testing\\n\\nConclusion:\\n\\n- LLaMA2 continues to be promising for controlled chat\\n- Sparse attention models are being prioritized for research\\n- Dynamic RAG pipelines via LangGraph outperform static RAG', name='InternalResearchNotes', id='19f2c856-1e55-4145-b18d-9cffb896bd31', tool_call_id='call_kNo8KPeEwKOln8JFxfVsKash'),\n",
       "  AIMessage(content='The following transformer variants are currently in production deployments:\\n\\n1. **EfficientFormer**\\n   - Deployment target: Raspberry Pi 4\\n   - Performance: 92.4% top-1 accuracy on TinyImageNet\\n   - Notes: Works well in quantized int8 mode with no major accuracy drop.\\n\\n2. **Longformer**\\n   - Evaluated on customer support logs with a maximum token limit of 8192.\\n   - Latency exceeds 1.2s per query in streaming settings.\\n\\n3. **Reformer**\\n   - Faced challenges during training, including bucket collisions and inconsistent loss spikes.\\n   - Solutions tried include gradient clipping and warmup scheduler.\\n\\n4. **TinyBERT**\\n   - Used for classification in support ticket priority tagging with an 87% F1 score.\\n\\n5. **FlashAttention2**\\n   - Integrated into LLaMA2, reducing context latency by approximately 50%.\\n\\n6. **Chain-of-Thought prompting**\\n   - Enhances performance on logic tasks.\\n\\n7. **Safety measures**\\n   - Implementations for toxicity detection and out-of-scope filtering have been developed.\\n\\nNo math results are provided as per instruction.', additional_kwargs={'refusal': None}, response_metadata={'token_usage': {'completion_tokens': 238, 'prompt_tokens': 1793, 'total_tokens': 2031, 'completion_tokens_details': {'accepted_prediction_tokens': 0, 'audio_tokens': 0, 'reasoning_tokens': 0, 'rejected_prediction_tokens': 0}, 'prompt_tokens_details': {'audio_tokens': 0, 'cached_tokens': 1280}}, 'model_name': 'gpt-4o-mini-2024-07-18', 'system_fingerprint': 'fp_560af6e559', 'id': 'chatcmpl-CNNJsdEFKgkiVW53gHmOnO8uwTgMT', 'service_tier': 'default', 'finish_reason': 'stop', 'logprobs': None}, name='research_agent', id='run--56f17021-6362-4ac9-815c-e1a35b496516-0', usage_metadata={'input_tokens': 1793, 'output_tokens': 238, 'total_tokens': 2031, 'input_token_details': {'audio': 0, 'cache_read': 1280}, 'output_token_details': {'audio': 0, 'reasoning': 0}}),\n",
       "  AIMessage(content='Transferring back to supervisor', additional_kwargs={}, response_metadata={'__is_handoff_back': True}, name='research_agent', id='d2e71e45-a2f9-4628-a261-3bda2f20d2d2', tool_calls=[{'name': 'transfer_back_to_supervisor', 'args': {}, 'id': 'a01f886e-3b5d-4501-82f1-6c0751f5a4e3', 'type': 'tool_call'}]),\n",
       "  ToolMessage(content='Successfully transferred back to supervisor', name='transfer_back_to_supervisor', id='e2bfac6f-aa0d-461f-928e-e6856c5648ad', tool_call_id='a01f886e-3b5d-4501-82f1-6c0751f5a4e3'),\n",
       "  AIMessage(content='', additional_kwargs={'tool_calls': [{'id': 'call_0RWowaBQVT7ke3pMPYDQdg8U', 'function': {'arguments': '{}', 'name': 'transfer_to_math_agent'}, 'type': 'function'}], 'refusal': None}, response_metadata={'token_usage': {'completion_tokens': 12, 'prompt_tokens': 849, 'total_tokens': 861, 'completion_tokens_details': {'accepted_prediction_tokens': 0, 'audio_tokens': 0, 'reasoning_tokens': 0, 'rejected_prediction_tokens': 0}, 'prompt_tokens_details': {'audio_tokens': 0, 'cached_tokens': 0}}, 'model_name': 'gpt-4o-mini-2024-07-18', 'system_fingerprint': 'fp_51db84afab', 'id': 'chatcmpl-CNNK1TceWV9c1FLXhDoULkFH76ZMP', 'service_tier': 'default', 'finish_reason': 'tool_calls', 'logprobs': None}, name='supervisor', id='run--51f330a1-12c2-4279-a1b2-e8d3d7e211ed-0', tool_calls=[{'name': 'transfer_to_math_agent', 'args': {}, 'id': 'call_0RWowaBQVT7ke3pMPYDQdg8U', 'type': 'tool_call'}], usage_metadata={'input_tokens': 849, 'output_tokens': 12, 'total_tokens': 861, 'input_token_details': {'audio': 0, 'cache_read': 0}, 'output_token_details': {'audio': 0, 'reasoning': 0}}),\n",
       "  ToolMessage(content='Successfully transferred to math_agent', name='transfer_to_math_agent', id='bf98b03f-fbfd-472e-9b91-c1a9ef6ef0c6', tool_call_id='call_0RWowaBQVT7ke3pMPYDQdg8U'),\n",
       "  AIMessage(content='', additional_kwargs={'tool_calls': [{'id': 'call_eWtdQewS7wD5BsuqUVT2CJcH', 'function': {'arguments': '{\"a\":5,\"b\":10}', 'name': 'add'}, 'type': 'function'}], 'refusal': None}, response_metadata={'token_usage': {'completion_tokens': 17, 'prompt_tokens': 894, 'total_tokens': 911, 'completion_tokens_details': {'accepted_prediction_tokens': 0, 'audio_tokens': 0, 'reasoning_tokens': 0, 'rejected_prediction_tokens': 0}, 'prompt_tokens_details': {'audio_tokens': 0, 'cached_tokens': 0}}, 'model_name': 'gpt-4o-mini-2024-07-18', 'system_fingerprint': 'fp_560af6e559', 'id': 'chatcmpl-CNNK2HZCL45GiZ4D0esevzKyEksfA', 'service_tier': 'default', 'finish_reason': 'tool_calls', 'logprobs': None}, name='math_agent', id='run--9e1c2843-7241-4bfd-aab9-7ce694f70e63-0', tool_calls=[{'name': 'add', 'args': {'a': 5, 'b': 10}, 'id': 'call_eWtdQewS7wD5BsuqUVT2CJcH', 'type': 'tool_call'}], usage_metadata={'input_tokens': 894, 'output_tokens': 17, 'total_tokens': 911, 'input_token_details': {'audio': 0, 'cache_read': 0}, 'output_token_details': {'audio': 0, 'reasoning': 0}}),\n",
       "  ToolMessage(content='15.0', name='add', id='644a0e83-6f80-4f8b-ba33-a4291a47ed94', tool_call_id='call_eWtdQewS7wD5BsuqUVT2CJcH'),\n",
       "  AIMessage(content='15', additional_kwargs={'refusal': None}, response_metadata={'token_usage': {'completion_tokens': 2, 'prompt_tokens': 924, 'total_tokens': 926, 'completion_tokens_details': {'accepted_prediction_tokens': 0, 'audio_tokens': 0, 'reasoning_tokens': 0, 'rejected_prediction_tokens': 0}, 'prompt_tokens_details': {'audio_tokens': 0, 'cached_tokens': 0}}, 'model_name': 'gpt-4o-mini-2024-07-18', 'system_fingerprint': 'fp_560af6e559', 'id': 'chatcmpl-CNNK4L4Fo1NNqkQ0iJ8wumBkndaOL', 'service_tier': 'default', 'finish_reason': 'stop', 'logprobs': None}, name='math_agent', id='run--e180c947-498d-429b-9a00-6637b28b569f-0', usage_metadata={'input_tokens': 924, 'output_tokens': 2, 'total_tokens': 926, 'input_token_details': {'audio': 0, 'cache_read': 0}, 'output_token_details': {'audio': 0, 'reasoning': 0}}),\n",
       "  AIMessage(content='Transferring back to supervisor', additional_kwargs={}, response_metadata={'__is_handoff_back': True}, name='math_agent', id='1b5ae290-3a19-4348-bd3d-4117110200e2', tool_calls=[{'name': 'transfer_back_to_supervisor', 'args': {}, 'id': '6b7cabbc-dbb8-4825-94f5-84d5f62c9eff', 'type': 'tool_call'}]),\n",
       "  ToolMessage(content='Successfully transferred back to supervisor', name='transfer_back_to_supervisor', id='3698ab4a-aa38-4bb0-8a6b-a821f21dd7f1', tool_call_id='6b7cabbc-dbb8-4825-94f5-84d5f62c9eff'),\n",
       "  AIMessage(content='I have the information you requested:\\n\\n- The transformer variants in production deployments are: EfficientFormer, Longformer, Reformer, TinyBERT, FlashAttention2, and Chain-of-Thought prompting.\\n\\nAdditionally, the result of 5 plus 10 is 15.', additional_kwargs={'refusal': None}, response_metadata={'token_usage': {'completion_tokens': 55, 'prompt_tokens': 962, 'total_tokens': 1017, 'completion_tokens_details': {'accepted_prediction_tokens': 0, 'audio_tokens': 0, 'reasoning_tokens': 0, 'rejected_prediction_tokens': 0}, 'prompt_tokens_details': {'audio_tokens': 0, 'cached_tokens': 0}}, 'model_name': 'gpt-4o-mini-2024-07-18', 'system_fingerprint': 'fp_51db84afab', 'id': 'chatcmpl-CNNK5cQy3dT5xqUkPQuhQvu6HSrZK', 'service_tier': 'default', 'finish_reason': 'stop', 'logprobs': None}, name='supervisor', id='run--b991f2ab-cde4-4ab5-86fb-3876d22fb873-0', usage_metadata={'input_tokens': 962, 'output_tokens': 55, 'total_tokens': 1017, 'input_token_details': {'audio': 0, 'cache_read': 0}, 'output_token_details': {'audio': 0, 'reasoning': 0}})]}"
      ]
     },
     "execution_count": 33,
     "metadata": {},
     "output_type": "execute_result"
    }
   ],
   "source": [
    "response"
   ]
  },
  {
   "cell_type": "code",
   "execution_count": 34,
   "id": "42006992",
   "metadata": {},
   "outputs": [
    {
     "data": {
      "text/plain": [
       "'I have the information you requested:\\n\\n- The transformer variants in production deployments are: EfficientFormer, Longformer, Reformer, TinyBERT, FlashAttention2, and Chain-of-Thought prompting.\\n\\nAdditionally, the result of 5 plus 10 is 15.'"
      ]
     },
     "execution_count": 34,
     "metadata": {},
     "output_type": "execute_result"
    }
   ],
   "source": [
    "response[\"messages\"][-1].content"
   ]
  },
  {
   "cell_type": "code",
   "execution_count": null,
   "id": "e7eb861c",
   "metadata": {},
   "outputs": [],
   "source": []
  }
 ],
 "metadata": {
  "kernelspec": {
   "display_name": ".venv",
   "language": "python",
   "name": "python3"
  },
  "language_info": {
   "codemirror_mode": {
    "name": "ipython",
    "version": 3
   },
   "file_extension": ".py",
   "mimetype": "text/x-python",
   "name": "python",
   "nbconvert_exporter": "python",
   "pygments_lexer": "ipython3",
   "version": "3.13.6"
  }
 },
 "nbformat": 4,
 "nbformat_minor": 5
}
