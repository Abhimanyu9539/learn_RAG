{
 "cells": [
  {
   "cell_type": "markdown",
   "id": "e8974df0",
   "metadata": {},
   "source": [
    "### 🤖 What are Multi-Agent RAG Systems?\n",
    "A Multi-Agent RAG System splits the RAG pipeline into multiple specialized agents — each responsible for a specific role — and enables them to collaborate on a single query or task.\n",
    "\n",
    "#### 1. 📋 Multi-Agent Network RAG System with LangGraph\n",
    "Project Overview\n",
    "\n",
    "A beginner-friendly Retrieval-Augmented Generation (RAG) system that uses a multi-agent architecture to intelligently answer questions from your documents. Built with LangGraph v0.3 for workflow orchestration and OpenAI for language understanding.\n",
    "\n",
    "What It Does\n",
    "\n",
    "Transforms your documents (PDFs, text files) into a searchable knowledge base that can answer questions intelligently using AI. Simply upload documents and ask questions in natural language - the system finds relevant information and generates comprehensive answers.\n",
    "Key Features\n",
    "\n",
    "- 📚 Multi-Format Support: Handles PDF and text documents\n",
    "- 🤖 3-Agent Architecture: Specialized agents for document processing, retrieval, and answer generation\n",
    "- 🔍 Smart Search: Vector-based semantic search finds relevant information\n",
    "- 💬 Natural Language Q&A: Ask questions in plain English\n"
   ]
  },
  {
   "cell_type": "code",
   "execution_count": 5,
   "id": "89ff399a",
   "metadata": {},
   "outputs": [],
   "source": [
    "import os\n",
    "from dotenv import load_dotenv\n",
    "load_dotenv()\n",
    "from langchain.chat_models import init_chat_model\n",
    "\n",
    "\n",
    "os.environ[\"TAVILY_API_KEY\"]=os.getenv(\"TAVILY_API_KEY\")\n",
    "\n",
    "os.environ[\"OPENAI_API_KEY\"]=os.getenv(\"OPENAI_API_KEY\")"
   ]
  },
  {
   "cell_type": "code",
   "execution_count": 6,
   "id": "a96a1a80",
   "metadata": {},
   "outputs": [
    {
     "data": {
      "text/plain": [
       "ChatOpenAI(client=<openai.resources.chat.completions.completions.Completions object at 0x000002007E939D10>, async_client=<openai.resources.chat.completions.completions.AsyncCompletions object at 0x000002007E93A0D0>, root_client=<openai.OpenAI object at 0x000002007E939A90>, root_async_client=<openai.AsyncOpenAI object at 0x000002007E939E50>, model_name='gpt-4o-mini', model_kwargs={}, openai_api_key=SecretStr('**********'))"
      ]
     },
     "execution_count": 6,
     "metadata": {},
     "output_type": "execute_result"
    }
   ],
   "source": [
    "llm=init_chat_model(\"openai:gpt-4o-mini\")\n",
    "llm"
   ]
  },
  {
   "cell_type": "code",
   "execution_count": 12,
   "id": "62327ed2",
   "metadata": {},
   "outputs": [],
   "source": [
    "from typing import Annotated\n",
    "\n",
    "from langchain_tavily import TavilySearch\n",
    "from langchain_core.tools import tool\n",
    "from langchain.agents import Tool\n",
    "from langchain.tools import WikipediaQueryRun\n",
    "from langchain.utilities import WikipediaAPIWrapper\n",
    "from langchain.document_loaders import TextLoader\n",
    "from langchain.vectorstores import FAISS\n",
    "from langchain_openai import OpenAIEmbeddings\n",
    "from langchain.text_splitter import RecursiveCharacterTextSplitter"
   ]
  },
  {
   "cell_type": "code",
   "execution_count": 10,
   "id": "da242eea",
   "metadata": {},
   "outputs": [],
   "source": [
    "tavily_tool=TavilySearch(max_results=5)"
   ]
  },
  {
   "cell_type": "code",
   "execution_count": 17,
   "id": "a8eb7c3b",
   "metadata": {},
   "outputs": [],
   "source": [
    "## Generic function to crate a retrieval tool \n",
    "\n",
    "def make_retriever_tool_from_text(file, name, desc):\n",
    "    docs = TextLoader(file, encoding='utf-8').load()\n",
    "\n",
    "    chunks = RecursiveCharacterTextSplitter(chunk_size=500, chunk_overlap=50).split_documents(docs)\n",
    "\n",
    "    vs = FAISS.from_documents(chunks, OpenAIEmbeddings())\n",
    "\n",
    "    retriever = vs.as_retriever()\n",
    "\n",
    "    def tool_func(query:str)->str:\n",
    "        print(f\"📚 Using tool: {name}\")\n",
    "        results = retriever.invoke(query)\n",
    "        return \"\\n\\n\".join(doc.page_content for doc in results)\n",
    "    \n",
    "    return Tool(name=name,description=desc,func=tool_func)"
   ]
  },
  {
   "cell_type": "code",
   "execution_count": null,
   "id": "9002c6d9",
   "metadata": {},
   "outputs": [
    {
     "data": {
      "text/plain": [
       "Tool(name='InternalResearchNotes', description='Search internal research notes for experimental results', func=<function make_retriever_tool_from_text.<locals>.tool_func at 0x00000200745E0E00>)"
      ]
     },
     "execution_count": 18,
     "metadata": {},
     "output_type": "execute_result"
    }
   ],
   "source": [
    "internal_tool_1=make_retriever_tool_from_text(\"research_notes.txt\",\n",
    "                                              \"InternalResearchNotes \",\n",
    "                                              \"Search internal research notes for experimental results\")\n",
    "\n",
    "internal_tool_1"
   ]
  },
  {
   "cell_type": "code",
   "execution_count": 19,
   "id": "8bf8c7b9",
   "metadata": {},
   "outputs": [],
   "source": [
    "from langchain_core.messages import BaseMessage, HumanMessage\n",
    "from langgraph.prebuilt import create_react_agent\n",
    "from langgraph.graph import MessagesState, END\n",
    "from langgraph.types import Command"
   ]
  },
  {
   "cell_type": "code",
   "execution_count": 20,
   "id": "ce77af44",
   "metadata": {},
   "outputs": [],
   "source": [
    "def get_next_node(last_message: BaseMessage, goto:str):\n",
    "    if \"FINAL_ANSWER\" in last_message.content:\n",
    "        return END\n",
    "    return goto"
   ]
  },
  {
   "cell_type": "code",
   "execution_count": 21,
   "id": "9835781b",
   "metadata": {},
   "outputs": [],
   "source": [
    "def make_system_prompt(suffix: str) -> str:\n",
    "    return (\n",
    "        \"You are a helpful AI assistant, collaborating with other assistants.\"\n",
    "        \" Use the provided tools to progress towards answering the question.\"\n",
    "        \" If you are unable to fully answer, that's OK, another assistant with different tools \"\n",
    "        \" will help where you left off. Execute what you can to make progress.\"\n",
    "        \" If you or any of the other assistants have the final answer or deliverable,\"\n",
    "        \" prefix your response with FINAL ANSWER so the team knows to stop.\"\n",
    "        f\"\\n{suffix}\"\n",
    "    )"
   ]
  },
  {
   "cell_type": "code",
   "execution_count": 22,
   "id": "7ef7fc8a",
   "metadata": {},
   "outputs": [
    {
     "data": {
      "image/png": "[encoded data removed]",
      "text/plain": [
       "<langgraph.graph.state.CompiledStateGraph object at 0x0000020017AF1160>"
      ]
     },
     "execution_count": 22,
     "metadata": {},
     "output_type": "execute_result"
    }
   ],
   "source": [
    "### Research agent and node\n",
    "\n",
    "\n",
    "research_agent = create_react_agent(\n",
    "    llm, \n",
    "    tools = [internal_tool_1, tavily_tool],\n",
    "    prompt=make_system_prompt(\"You can only do research. Use the tool that you are binded with, you can use both of them\" \\\n",
    "    \" You are working with a content writer colleague.\")\n",
    ")\n",
    "\n",
    "research_agent\n"
   ]
  },
  {
   "cell_type": "code",
   "execution_count": 23,
   "id": "addc3281",
   "metadata": {},
   "outputs": [],
   "source": [
    "### Research Node\n",
    "\n",
    "from typing import Literal\n",
    "\n",
    "\n",
    "def research_node(state:MessagesState) -> Command[Literal['blog_generator', END]]:\n",
    "    result = research_agent.invoke(state)\n",
    "\n",
    "    goto = get_next_node(result[\"messages\"][-1], \"blog_generator\")\n",
    "\n",
    "    # wrap in a human message, as not all providers allow\n",
    "    # AI message at the last position of the input messages list\n",
    "    result[\"messages\"][-1] = HumanMessage(\n",
    "        content=result[\"messages\"][-1].content, name=\"researcher\"\n",
    "    )\n",
    "    return Command(\n",
    "        update={\n",
    "            # share internal message history of research agent with other agents\n",
    "            \"messages\": result[\"messages\"],\n",
    "        },\n",
    "        goto=goto,\n",
    "    )\n"
   ]
  },
  {
   "cell_type": "code",
   "execution_count": 24,
   "id": "518d57c3",
   "metadata": {},
   "outputs": [],
   "source": [
    "### Blog write agent\n",
    "blog_agent=create_react_agent(\n",
    "    llm,\n",
    "    tools=[],\n",
    "    prompt=make_system_prompt(\n",
    "        \"You can only write a detailed blog. You are working with a researcher colleague.\"\n",
    "    )\n",
    ")\n",
    "\n",
    "def blog_node(state: MessagesState) -> Command[Literal[\"researcher\", END]]:\n",
    "    result = blog_agent.invoke(state)\n",
    "    goto = get_next_node(result[\"messages\"][-1], \"researcher\")\n",
    "    # wrap in a human message, as not all providers allow\n",
    "    # AI message at the last position of the input messages list\n",
    "    result[\"messages\"][-1] = HumanMessage(\n",
    "        content=result[\"messages\"][-1].content, name=\"blog_generator\"\n",
    "    )\n",
    "    return Command(\n",
    "        update={\n",
    "            # share internal message history of chart agent with other agents\n",
    "            \"messages\": result[\"messages\"],\n",
    "        },\n",
    "        goto=goto,\n",
    "    )"
   ]
  },
  {
   "cell_type": "code",
   "execution_count": 25,
   "id": "5e0ea950",
   "metadata": {},
   "outputs": [
    {
     "data": {
      "image/png": "[encoded data removed]",
      "text/plain": [
       "<langgraph.graph.state.CompiledStateGraph object at 0x00000200173DE850>"
      ]
     },
     "execution_count": 25,
     "metadata": {},
     "output_type": "execute_result"
    }
   ],
   "source": [
    "from langgraph.graph import StateGraph, START\n",
    "\n",
    "workflow = StateGraph(MessagesState)\n",
    "workflow.add_node(\"researcher\", research_node)\n",
    "workflow.add_node(\"blog_generator\", blog_node)\n",
    "\n",
    "workflow.add_edge(START, \"researcher\")\n",
    "graph = workflow.compile()\n",
    "graph"
   ]
  },
  {
   "cell_type": "code",
   "execution_count": null,
   "id": "2937998a",
   "metadata": {},
   "outputs": [],
   "source": [
    "response=graph.invoke({\"messages\":\"Write a detailed blog on transformer variants in production deployments\"})"
   ]
  },
  {
   "cell_type": "code",
   "execution_count": null,
   "id": "8f3d5032",
   "metadata": {},
   "outputs": [],
   "source": [
    "response[\"messages\"][-1].content"
   ]
  },
  {
   "cell_type": "code",
   "execution_count": null,
   "id": "9f8df06f",
   "metadata": {},
   "outputs": [],
   "source": []
  }
 ],
 "metadata": {
  "kernelspec": {
   "display_name": ".venv",
   "language": "python",
   "name": "python3"
  },
  "language_info": {
   "codemirror_mode": {
    "name": "ipython",
    "version": 3
   },
   "file_extension": ".py",
   "mimetype": "text/x-python",
   "name": "python",
   "nbconvert_exporter": "python",
   "pygments_lexer": "ipython3",
   "version": "3.13.6"
  }
 },
 "nbformat": 4,
 "nbformat_minor": 5
}
