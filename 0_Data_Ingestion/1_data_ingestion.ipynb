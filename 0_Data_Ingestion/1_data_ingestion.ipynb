{
 "cells": [
  {
   "cell_type": "code",
   "execution_count": 1,
   "id": "579e3097",
   "metadata": {},
   "outputs": [],
   "source": [
    "import os\n",
    "from typing import List, Any, Dict\n",
    "import pandas as pd"
   ]
  },
  {
   "cell_type": "code",
   "execution_count": 2,
   "id": "5723039b",
   "metadata": {},
   "outputs": [],
   "source": [
    "from langchain_core.documents import Document\n",
    "from langchain.text_splitter import (\n",
    "    RecursiveCharacterTextSplitter, \n",
    "    CharacterTextSplitter, \n",
    "    TokenTextSplitter)"
   ]
  },
  {
   "cell_type": "markdown",
   "id": "a088310c",
   "metadata": {},
   "source": [
    "### Understanding Document Structure"
   ]
  },
  {
   "cell_type": "code",
   "execution_count": 7,
   "id": "c1cd9461",
   "metadata": {},
   "outputs": [],
   "source": [
    "## Create a document\n",
    "\n",
    "doc = Document(\n",
    "    page_content=\"Hello, world!\",\n",
    "    metadata={\"source\": \"test.txt\", \n",
    "              \"title\": \"Test Document\", \n",
    "              \"page_number\": 1}\n",
    ")"
   ]
  },
  {
   "cell_type": "code",
   "execution_count": null,
   "id": "f51fce48",
   "metadata": {},
   "outputs": [
    {
     "data": {
      "text/plain": [
       "Document(metadata={'source': 'test.txt', 'title': 'Test Document', 'page_number': 1}, page_content='Hello, world!')"
      ]
     },
     "execution_count": 8,
     "metadata": {},
     "output_type": "execute_result"
    }
   ],
   "source": [
    "doc "
   ]
  },
  {
   "cell_type": "markdown",
   "id": "f8529ed8",
   "metadata": {},
   "source": [
    "### Text Files"
   ]
  },
  {
   "cell_type": "code",
   "execution_count": 10,
   "id": "66933d30",
   "metadata": {},
   "outputs": [],
   "source": [
    "### Text Loader\n",
    "from langchain.document_loaders import TextLoader"
   ]
  },
  {
   "cell_type": "code",
   "execution_count": 13,
   "id": "6f0c4aa3",
   "metadata": {},
   "outputs": [
    {
     "data": {
      "text/plain": [
       "[Document(metadata={'source': 'data/text_files/python_intro.txt'}, page_content='Python Programming Introduction\\n\\nPython is a high-level, interpreted programming language known for its simplicity and readability.\\nCreated by Guido van Rossum and first released in 1991, Python has become one of the most popular\\nprogramming languages in the world.\\n\\nKey Features:\\n- Easy to learn and use\\n- Extensive standard library\\n- Cross-platform compatibility\\n- Strong community support\\n\\nPython is widely used in web development, data science, artificial intelligence, and automation.')]"
      ]
     },
     "execution_count": 13,
     "metadata": {},
     "output_type": "execute_result"
    }
   ],
   "source": [
    "# Loading a single text file\n",
    "loader = TextLoader(\"data/text_files/python_intro.txt\", encoding=\"utf-8\")\n",
    "loader.load()"
   ]
  },
  {
   "cell_type": "code",
   "execution_count": 14,
   "id": "3431207f",
   "metadata": {},
   "outputs": [],
   "source": [
    "## Loading text files from directory\n",
    "from langchain_community.document_loaders import DirectoryLoader"
   ]
  },
  {
   "cell_type": "code",
   "execution_count": 16,
   "id": "6cde65db",
   "metadata": {},
   "outputs": [
    {
     "name": "stderr",
     "output_type": "stream",
     "text": [
      "100%|██████████| 2/2 [00:00<00:00, 1833.17it/s]\n"
     ]
    }
   ],
   "source": [
    "## Load all the text files in the directory\n",
    "\n",
    "dir_loader = DirectoryLoader(\n",
    "    \"data/text_files\",\n",
    "    glob=\"*.txt\", \n",
    "    loader_cls= TextLoader, #Loader class to use\n",
    "    loader_kwargs = {\"encoding\":\"utf-8\"}, #Encoding to use\n",
    "    show_progress=True, #Show progress\n",
    ")\n",
    "\n",
    "documents = dir_loader.load()"
   ]
  },
  {
   "cell_type": "code",
   "execution_count": 17,
   "id": "18cdf0f9",
   "metadata": {},
   "outputs": [
    {
     "data": {
      "text/plain": [
       "2"
      ]
     },
     "execution_count": 17,
     "metadata": {},
     "output_type": "execute_result"
    }
   ],
   "source": [
    "len(documents)"
   ]
  },
  {
   "cell_type": "code",
   "execution_count": 19,
   "id": "d77949df",
   "metadata": {},
   "outputs": [
    {
     "name": "stdout",
     "output_type": "stream",
     "text": [
      "Total documents loaded: 2\n",
      "Document 1:\n",
      "Source : Machine Learning Basics\n",
      "\n",
      "Machine learning is a subset of artificial intelligence that enables system\n",
      "Metadata: {'source': 'data\\\\text_files\\\\machine_learning.txt'}\n",
      "\n",
      "----------------------------------------------------------------------------------------------------\n",
      "Document 2:\n",
      "Source : Python Programming Introduction\n",
      "\n",
      "Python is a high-level, interpreted programming language known for \n",
      "Metadata: {'source': 'data\\\\text_files\\\\python_intro.txt'}\n",
      "\n",
      "----------------------------------------------------------------------------------------------------\n"
     ]
    }
   ],
   "source": [
    "print(\"Total documents loaded:\", len(documents))\n",
    "\n",
    "for i, doc in enumerate(documents):\n",
    "    print(f\"Document {i+1}:\")\n",
    "    print(f\"Source : {doc.page_content[:100]}\")\n",
    "    print(f\"Metadata: {doc.metadata}\")\n",
    "    print()\n",
    "    print(\"-\"*100)"
   ]
  },
  {
   "cell_type": "markdown",
   "id": "6a86aa4b",
   "metadata": {},
   "source": [
    "### Text Splitting Strategies"
   ]
  },
  {
   "cell_type": "code",
   "execution_count": 20,
   "id": "17fe7481",
   "metadata": {},
   "outputs": [],
   "source": [
    "from langchain.text_splitter import (\n",
    "    CharacterTextSplitter, RecursiveCharacterTextSplitter, TokenTextSplitter\n",
    ")"
   ]
  },
  {
   "cell_type": "code",
   "execution_count": 23,
   "id": "b9e49b47",
   "metadata": {},
   "outputs": [
    {
     "name": "stdout",
     "output_type": "stream",
     "text": [
      "Machine Learning Basics\n",
      "\n",
      "Machine learning is a subset of artificial intelligence that enables systems to learn and improve\n",
      "from experience without being explicitly programmed. It focuses on developing computer programs\n",
      "that can access data and use it to learn for themselves.\n",
      "\n",
      "Types of Machine Learning:\n",
      "1. Supervised Learning: Learning with labeled data\n",
      "2. Unsupervised Learning: Finding patterns in unlabeled data\n",
      "3. Reinforcement Learning: Learning through rewards and penalties\n",
      "\n",
      "Applications include image recognition, speech processing, and recommendation systems\n",
      "\n",
      "\n",
      "    \n"
     ]
    }
   ],
   "source": [
    "text = documents[0].page_content\n",
    "print(text)"
   ]
  },
  {
   "cell_type": "code",
   "execution_count": 28,
   "id": "d3f0a343",
   "metadata": {},
   "outputs": [
    {
     "name": "stdout",
     "output_type": "stream",
     "text": [
      "Total chunks: 4\n"
     ]
    }
   ],
   "source": [
    "## Method 1 : Character Text Splitter\n",
    "character_text_splitter = CharacterTextSplitter(\n",
    "    separator=\"\\n\",\n",
    "    chunk_size=200,\n",
    "    chunk_overlap=20,\n",
    "    length_function=len\n",
    ")\n",
    "\n",
    "char_chunks = character_text_splitter.split_text(text)\n",
    "print(f\"Total chunks: {len(char_chunks)}\")\n"
   ]
  },
  {
   "cell_type": "code",
   "execution_count": 29,
   "id": "8a1ac2eb",
   "metadata": {},
   "outputs": [
    {
     "name": "stdout",
     "output_type": "stream",
     "text": [
      "Machine Learning Basics\n",
      "Machine learning is a subset of artificial intelligence that enables systems to learn and improve\n",
      "\n",
      "----------------------------------------------------------------------------------------------------\n",
      "from experience without being explicitly programmed. It focuses on developing computer programs\n",
      "that can access data and use it to learn for themselves.\n",
      "Types of Machine Learning:\n",
      "\n",
      "----------------------------------------------------------------------------------------------------\n",
      "1. Supervised Learning: Learning with labeled data\n",
      "2. Unsupervised Learning: Finding patterns in unlabeled data\n",
      "3. Reinforcement Learning: Learning through rewards and penalties\n",
      "\n",
      "----------------------------------------------------------------------------------------------------\n",
      "Applications include image recognition, speech processing, and recommendation systems\n",
      "\n",
      "----------------------------------------------------------------------------------------------------\n"
     ]
    }
   ],
   "source": [
    "for chunk in char_chunks:\n",
    "    print(chunk)\n",
    "    print()\n",
    "    print(\"-\"*100)"
   ]
  },
  {
   "cell_type": "code",
   "execution_count": 30,
   "id": "5fd916ff",
   "metadata": {},
   "outputs": [
    {
     "name": "stdout",
     "output_type": "stream",
     "text": [
      "Total chunks: 6\n"
     ]
    }
   ],
   "source": [
    "## Method 2 : Recursive Character Text Splitter\n",
    "\n",
    "recursive_character_text_splitter = RecursiveCharacterTextSplitter(\n",
    "    separators=[\"\\n\\n\", \"\\n\", \" \", \"\"],\n",
    "    chunk_size=200,\n",
    "    chunk_overlap=20,\n",
    "    length_function=len\n",
    ")\n",
    "\n",
    "recursive_chunks = recursive_character_text_splitter.split_text(text)\n",
    "print(f\"Total chunks: {len(recursive_chunks)}\")"
   ]
  },
  {
   "cell_type": "code",
   "execution_count": 31,
   "id": "ac4bf1d1",
   "metadata": {},
   "outputs": [
    {
     "name": "stdout",
     "output_type": "stream",
     "text": [
      "Machine Learning Basics\n",
      "\n",
      "----------------------------------------------------------------------------------------------------\n",
      "Machine learning is a subset of artificial intelligence that enables systems to learn and improve\n",
      "from experience without being explicitly programmed. It focuses on developing computer programs\n",
      "\n",
      "----------------------------------------------------------------------------------------------------\n",
      "that can access data and use it to learn for themselves.\n",
      "\n",
      "----------------------------------------------------------------------------------------------------\n",
      "Types of Machine Learning:\n",
      "1. Supervised Learning: Learning with labeled data\n",
      "2. Unsupervised Learning: Finding patterns in unlabeled data\n",
      "\n",
      "----------------------------------------------------------------------------------------------------\n",
      "3. Reinforcement Learning: Learning through rewards and penalties\n",
      "\n",
      "----------------------------------------------------------------------------------------------------\n",
      "Applications include image recognition, speech processing, and recommendation systems\n",
      "\n",
      "----------------------------------------------------------------------------------------------------\n"
     ]
    }
   ],
   "source": [
    "for chunk in recursive_chunks:\n",
    "    print(chunk)\n",
    "    print()\n",
    "    print(\"-\"*100)"
   ]
  },
  {
   "cell_type": "code",
   "execution_count": null,
   "id": "9daa7d71",
   "metadata": {},
   "outputs": [],
   "source": []
  }
 ],
 "metadata": {
  "kernelspec": {
   "display_name": ".venv",
   "language": "python",
   "name": "python3"
  },
  "language_info": {
   "codemirror_mode": {
    "name": "ipython",
    "version": 3
   },
   "file_extension": ".py",
   "mimetype": "text/x-python",
   "name": "python",
   "nbconvert_exporter": "python",
   "pygments_lexer": "ipython3",
   "version": "3.13.6"
  }
 },
 "nbformat": 4,
 "nbformat_minor": 5
}
