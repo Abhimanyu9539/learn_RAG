{
 "cells": [
  {
   "cell_type": "markdown",
   "id": "b47049b5",
   "metadata": {},
   "source": [
    "### Types of RAG"
   ]
  },
  {
   "cell_type": "markdown",
   "id": "2518a4b3",
   "metadata": {},
   "source": [
    "### 1. Basic Agentic RAG\n",
    "\n",
    "- Uses Tools\n",
    "- Has a predefined structure\n",
    "- Retrieve and Generates the answers "
   ]
  },
  {
   "cell_type": "markdown",
   "id": "8488705f",
   "metadata": {},
   "source": [
    "### 2. Agentic RAG With ReAct (Reason and Act)\n",
    "\n",
    "- Uses ReAct agent where LLM can reason and act based on the given conditions\n",
    "- Can use external tools provided\n"
   ]
  },
  {
   "cell_type": "markdown",
   "id": "7df66362",
   "metadata": {},
   "source": [
    "### 3. Chain Of Though RAG \n",
    "\n",
    "- Breaks down the query into steps to follow for getting clear answer\n",
    "- Think -> Retrieve -> Think -> Retrieve on its own\n",
    "- Plans the steps and retrieves the documents\n",
    "- Using the retrieved data, provides the final answer"
   ]
  },
  {
   "cell_type": "markdown",
   "id": "982a522b",
   "metadata": {},
   "source": [
    "### 4. Self Reflection RAG\n",
    "\n",
    "- RAG retrieves the context and generate the output first\n",
    "- Then self reflects on the answer to check if it fully answers the question\n",
    "- If LLM is satisfied then we get the answer\n"
   ]
  },
  {
   "cell_type": "markdown",
   "id": "c96c31a3",
   "metadata": {},
   "source": [
    "### 5. Query Planning and Decompostion RAG\n",
    "\n",
    "- Query is broken down in to simple sub questions or tasks\n",
    "- To simplify the complex query and to retrieve the precise and complete information\n",
    "- Its like reverse engineering\n",
    "- Simple Query, More context, Good Answers"
   ]
  },
  {
   "cell_type": "markdown",
   "id": "40843366",
   "metadata": {},
   "source": [
    "### 6. Iterative Retrieval RAG\n",
    "\n",
    "- Retrieves the context\n",
    "- Generate the output\n",
    "- Reflects on answer\n",
    "- If No, refine the query and restart the cycle"
   ]
  },
  {
   "cell_type": "markdown",
   "id": "2113bd74",
   "metadata": {},
   "source": [
    "### 7. Answer Synthesis from Multiple Sources\n",
    "\n",
    "- Rertrieves releveant docs from multiple sources\n",
    "- combines them together"
   ]
  },
  {
   "cell_type": "markdown",
   "id": "61ca2ca0",
   "metadata": {},
   "source": [
    "## 8. Autonomous RAG\n",
    "\n",
    "- RAG which is capable of reasoning, planning, acting, reflecting, and improving on its own without manual control over each step\n",
    "- Can use all of the above steps\n",
    "- Agentic Reasoning\n",
    "- Self Reflection, query decomposition\n",
    "- Iterative retrieval \n",
    "\n",
    "\n",
    "\n",
    "### How It Differs from Traditional RAG\n",
    "Traditional RAG follows a fixed pattern: every query triggers a retrieval step, then generates an answer using the retrieved documents. It's like always looking something up in a reference book, even when you already know the answer.\n",
    "\n",
    "\n",
    "### Autonomous RAG acts more intelligently by:\n",
    "\n",
    "Deciding if retrieval is needed - It can answer directly from its knowledge when appropriate, or retrieve information when needed\n",
    "Choosing what to retrieve - It can determine which sources or types of information would be most useful\n",
    "Iterating adaptively - It can perform multiple retrieval steps, refining its search based on what it finds\n",
    "\n",
    "Self-Reflection: The system can evaluate whether retrieved information is sufficient or if it needs to search again with different queries.\n",
    "\n",
    "Tool Integration: Beyond just document retrieval, autonomous RAG systems can decide to use calculators, call APIs, query databases, or use other tools as needed."
   ]
  },
  {
   "cell_type": "markdown",
   "id": "f545f42e",
   "metadata": {},
   "source": [
    "## 9. Corrective RAG\n",
    "\n",
    "- Focuses on improving the accuracy and relevance of generated response by incorporating mechanism of self grading and self reflection of retrieved documents\n",
    "- It does this by evaluating the quality of retrieved documents and applying corrective actions when necessary, such as refining or replacing incorrect retrievals.\n",
    "\n",
    "### Addressing Limitations of Basic RAG:\n",
    "Traditional RAG systems rely heavily on the accuracy of retrieved documents. If the retrieved information is flawed or incomplete, the generated response can also be inaccurate.\n",
    "\n",
    "### CRAG's Core Components:\n",
    "1. Retrieval Evaluator: This component assesses the quality and relevance of retrieved documents.\n",
    "2. Generative Model: This model generates the initial response based on the retrieved information.\n",
    "3. Refinement and Correction: CRAG employs strategies like knowledge refinement or web search to address issues identified by the retrieval evaluator.\n",
    "\n",
    "### Benefits of CRAG:\n",
    "1. Improved Accuracy: By evaluating and correcting retrieved information, CRAG helps ensure the accuracy of\n",
    "generated responses.\n",
    "2. Enhanced Relevance: CRAG can identify and filter out irrelevant information, making the generated response\n",
    "more relevant.\n",
    "3. Increased Robustness: CRAG can handle cases where the initial retrieval process is not perfect, leading to a\n",
    "more robust RAG system."
   ]
  },
  {
   "cell_type": "markdown",
   "id": "ce2ef2f2",
   "metadata": {},
   "source": []
  }
 ],
 "metadata": {
  "language_info": {
   "name": "python"
  }
 },
 "nbformat": 4,
 "nbformat_minor": 5
}
