{
 "cells": [
  {
   "cell_type": "markdown",
   "id": "b47049b5",
   "metadata": {},
   "source": [
    "### Types of RAG"
   ]
  },
  {
   "cell_type": "markdown",
   "id": "2518a4b3",
   "metadata": {},
   "source": [
    "### 1. Basic Agentic RAG\n",
    "\n",
    "- Uses Tools\n",
    "- Has a predefined structure\n",
    "- Retrieve and Generates the answers "
   ]
  },
  {
   "cell_type": "markdown",
   "id": "8488705f",
   "metadata": {},
   "source": [
    "### 2. Agentic RAG With ReAct (Reason and Act)\n",
    "\n",
    "- Uses ReAct agent where LLM can reason and act based on the given conditions\n",
    "- Can use external tools provided\n"
   ]
  },
  {
   "cell_type": "markdown",
   "id": "7df66362",
   "metadata": {},
   "source": [
    "### 3. Chain Of Though RAG \n",
    "\n",
    "- Breaks down the query into steps to follow for getting clear answer\n",
    "- Think -> Retrieve -> Think -> Retrieve on its own\n",
    "- Plans the steps and retrieves the documents\n",
    "- Using the retrieved data, provides the final answer"
   ]
  },
  {
   "cell_type": "markdown",
   "id": "982a522b",
   "metadata": {},
   "source": [
    "### 4. Self Reflection RAG\n",
    "\n",
    "- RAG retrieves the context and generate the output first\n",
    "- Then self reflects on the answer to check if it fully answers the question\n",
    "- If LLM is satisfied then we get the answer\n"
   ]
  },
  {
   "cell_type": "markdown",
   "id": "c96c31a3",
   "metadata": {},
   "source": []
  }
 ],
 "metadata": {
  "language_info": {
   "name": "python"
  }
 },
 "nbformat": 4,
 "nbformat_minor": 5
}
